{
 "cells": [
  {
   "cell_type": "code",
   "execution_count": 1,
   "metadata": {},
   "outputs": [],
   "source": [
    "import os\n",
    "import warnings\n",
    "\n",
    "import numpy as np\n",
    "import optuna\n",
    "import pandas as pd\n",
    "import statsmodels.api as sm\n",
    "from sklearn.datasets import make_regression\n",
    "from sklearn.metrics import mean_squared_error\n",
    "from sklearn.model_selection import train_test_split\n",
    "\n",
    "warnings.filterwarnings(\"ignore\")\n",
    "os.environ[\"PYTHONWARNINGS\"] = \"ignore\""
   ]
  },
  {
   "cell_type": "code",
   "execution_count": 2,
   "metadata": {},
   "outputs": [],
   "source": [
    "X, y = make_regression(n_samples=1000, n_features=10, noise=0.1)\n",
    "data = pd.DataFrame(X, columns=[f\"feature_{i}\" for i in range(X.shape[1])])\n",
    "data[\"target\"] = y"
   ]
  },
  {
   "cell_type": "code",
   "execution_count": 3,
   "metadata": {},
   "outputs": [],
   "source": [
    "X = data.drop(\"target\", axis=1)\n",
    "y = data[\"target\"]\n",
    "X_train, X_test, y_train, y_test = train_test_split(\n",
    "    X, y, test_size=0.2, random_state=42\n",
    ")"
   ]
  },
  {
   "cell_type": "code",
   "execution_count": 4,
   "metadata": {},
   "outputs": [],
   "source": [
    "def get_family(family_link):\n",
    "    if family_link == \"log\":\n",
    "        family = sm.families.Gaussian(sm.families.links.log())\n",
    "    elif family_link == \"identity\":\n",
    "        family = sm.families.Gaussian(sm.families.links.identity())\n",
    "    return family\n",
    "\n",
    "\n",
    "def objective(trial):\n",
    "    alpha = trial.suggest_float(\"alpha\", 1e-4, 10.0, log=True)\n",
    "    family_link = trial.suggest_categorical(\"family_link\", [\"log\", \"identity\"])\n",
    "    family = get_family(family_link)\n",
    "\n",
    "    model = sm.GLM(y_train, sm.add_constant(X_train), family=family)\n",
    "    results = model.fit_regularized(alpha=alpha)\n",
    "\n",
    "    predictions = results.predict(sm.add_constant(X_test))\n",
    "    mse = mean_squared_error(y_test, predictions)\n",
    "\n",
    "    return mse"
   ]
  },
  {
   "cell_type": "code",
   "execution_count": 5,
   "metadata": {},
   "outputs": [
    {
     "name": "stderr",
     "output_type": "stream",
     "text": [
      "[I 2023-11-14 00:36:22,723] A new study created in memory with name: no-name-0f95908f-847d-4a65-b361-ed64d4a6d7b8\n"
     ]
    },
    {
     "name": "stderr",
     "output_type": "stream",
     "text": [
      "[I 2023-11-14 00:36:23,070] Trial 0 finished with value: 26085.999190747625 and parameters: {'alpha': 0.05809114791582246, 'family_link': 'log'}. Best is trial 0 with value: 26085.999190747625.\n",
      "[I 2023-11-14 00:36:23,306] Trial 1 finished with value: 26086.38796938616 and parameters: {'alpha': 0.0037996853534324982, 'family_link': 'log'}. Best is trial 0 with value: 26085.999190747625.\n",
      "[I 2023-11-14 00:36:23,340] Trial 2 finished with value: 14.584409037505102 and parameters: {'alpha': 1.0498850987586763, 'family_link': 'identity'}. Best is trial 2 with value: 14.584409037505102.\n",
      "[I 2023-11-14 00:36:23,658] Trial 3 finished with value: 26086.372061130278 and parameters: {'alpha': 0.006021140347585357, 'family_link': 'log'}. Best is trial 2 with value: 14.584409037505102.\n",
      "[I 2023-11-14 00:36:23,880] Trial 4 finished with value: 26086.2620489516 and parameters: {'alpha': 0.021383591344285465, 'family_link': 'log'}. Best is trial 2 with value: 14.584409037505102.\n",
      "[I 2023-11-14 00:36:24,102] Trial 5 finished with value: 26085.838556965395 and parameters: {'alpha': 0.08052412688329431, 'family_link': 'log'}. Best is trial 2 with value: 14.584409037505102.\n",
      "[I 2023-11-14 00:36:24,324] Trial 6 finished with value: 26076.037451907825 and parameters: {'alpha': 1.4504743461923584, 'family_link': 'log'}. Best is trial 2 with value: 14.584409037505102.\n",
      "[I 2023-11-14 00:36:24,546] Trial 7 finished with value: 26086.41388008369 and parameters: {'alpha': 0.00018148622565835766, 'family_link': 'log'}. Best is trial 2 with value: 14.584409037505102.\n",
      "[I 2023-11-14 00:36:24,769] Trial 8 finished with value: 26086.41003106288 and parameters: {'alpha': 0.0007189668089013536, 'family_link': 'log'}. Best is trial 2 with value: 14.584409037505102.\n",
      "[I 2023-11-14 00:36:24,801] Trial 9 finished with value: 154.5248218443727 and parameters: {'alpha': 3.46811218166448, 'family_link': 'identity'}. Best is trial 2 with value: 14.584409037505102.\n"
     ]
    }
   ],
   "source": [
    "study = optuna.create_study(direction=\"minimize\")\n",
    "study.optimize(objective, n_trials=10)"
   ]
  },
  {
   "cell_type": "code",
   "execution_count": 6,
   "metadata": {},
   "outputs": [
    {
     "name": "stdout",
     "output_type": "stream",
     "text": [
      "Best parameters: {'alpha': 1.0498850987586763, 'family_link': 'identity'}\n"
     ]
    }
   ],
   "source": [
    "best_params = study.best_params\n",
    "print(f\"Best parameters: {best_params}\")"
   ]
  },
  {
   "cell_type": "code",
   "execution_count": 7,
   "metadata": {},
   "outputs": [
    {
     "name": "stdout",
     "output_type": "stream",
     "text": [
      "Final model MSE: 14.584409037505102\n"
     ]
    }
   ],
   "source": [
    "family_link = best_params[\"family_link\"]\n",
    "family = get_family(family_link)\n",
    "\n",
    "final_model = sm.GLM(\n",
    "    y_train, sm.add_constant(X_train), family=family\n",
    ").fit_regularized(alpha=best_params[\"alpha\"])\n",
    "final_predictions = final_model.predict(sm.add_constant(X_test))\n",
    "final_mse = mean_squared_error(y_test, final_predictions)\n",
    "\n",
    "print(f\"Final model MSE: {final_mse}\")"
   ]
  }
 ],
 "metadata": {
  "kernelspec": {
   "display_name": "base",
   "language": "python",
   "name": "python3"
  },
  "language_info": {
   "codemirror_mode": {
    "name": "ipython",
    "version": 3
   },
   "file_extension": ".py",
   "mimetype": "text/x-python",
   "name": "python",
   "nbconvert_exporter": "python",
   "pygments_lexer": "ipython3",
   "version": "3.11.5"
  }
 },
 "nbformat": 4,
 "nbformat_minor": 2
}
