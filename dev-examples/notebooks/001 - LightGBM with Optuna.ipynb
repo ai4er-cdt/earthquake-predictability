{
 "cells": [
  {
   "cell_type": "code",
   "execution_count": 1,
   "metadata": {},
   "outputs": [],
   "source": [
    "# LIGHTGBM WITH OPTUNA TUTORIAL\n",
    "# Medium: https://towardsdatascience.com/how-to-make-your-model-awesome-with-optuna-b56d490368af\n",
    "# Github: https://github.com/PiotrekGa/optuna_article/blob/master/Example.ipynb"
   ]
  },
  {
   "cell_type": "code",
   "execution_count": 2,
   "metadata": {},
   "outputs": [
    {
     "name": "stderr",
     "output_type": "stream",
     "text": [
      "/home/users/p341cam/miniconda3/envs/venv/lib/python3.11/site-packages/tqdm/auto.py:21: TqdmWarning: IProgress not found. Please update jupyter and ipywidgets. See https://ipywidgets.readthedocs.io/en/stable/user_install.html\n",
      "  from .autonotebook import tqdm as notebook_tqdm\n"
     ]
    }
   ],
   "source": [
    "import os\n",
    "import warnings\n",
    "\n",
    "import joblib\n",
    "import numpy as np\n",
    "import optuna\n",
    "from lightgbm import LGBMClassifier\n",
    "from sklearn.datasets import fetch_20newsgroups\n",
    "from sklearn.feature_extraction.text import TfidfVectorizer\n",
    "from sklearn.metrics import f1_score\n",
    "from sklearn.model_selection import cross_val_score\n",
    "from sklearn.pipeline import Pipeline\n",
    "\n",
    "warnings.filterwarnings(\"ignore\")\n",
    "os.environ[\"PYTHONWARNINGS\"] = \"ignore\""
   ]
  },
  {
   "cell_type": "code",
   "execution_count": 3,
   "metadata": {},
   "outputs": [],
   "source": [
    "data = fetch_20newsgroups()\n",
    "\n",
    "X = data[\"data\"][:5000]\n",
    "y = data[\"target\"][:5000]"
   ]
  },
  {
   "cell_type": "code",
   "execution_count": 4,
   "metadata": {},
   "outputs": [],
   "source": [
    "model = Pipeline(\n",
    "    [\n",
    "        (\"tfidf\", TfidfVectorizer(stop_words=\"english\")),\n",
    "        (\n",
    "            \"lgbc\",\n",
    "            LGBMClassifier(\n",
    "                objective=\"f1_score\", class_weight=\"balanced\", n_jobs=1\n",
    "            ),\n",
    "        ),\n",
    "    ]\n",
    ")"
   ]
  },
  {
   "cell_type": "code",
   "execution_count": 5,
   "metadata": {},
   "outputs": [],
   "source": [
    "def objective(trial):\n",
    "\n",
    "    tfidf__analyzer = trial.suggest_categorical(\n",
    "        \"tfidf__analyzer\", [\"word\", \"char\", \"char_wb\"]\n",
    "    )\n",
    "    tfidf__lowercase = trial.suggest_categorical(\n",
    "        \"tfidf__lowercase\", [False, True]\n",
    "    )\n",
    "    tfidf__max_features = trial.suggest_int(\"tfidf__max_features\", 500, 10_000)\n",
    "    lgbc__num_leaves = trial.suggest_int(\"lgbc__num_leaves\", 2, 150)\n",
    "    lgbc__max_depth = trial.suggest_int(\"lgbc__max_depth\", 2, 100)\n",
    "    lgbc__n_estimators = trial.suggest_int(\"lgbc__n_estimators\", 10, 200)\n",
    "    lgbc__subsample_for_bin = trial.suggest_int(\n",
    "        \"lgbc__subsample_for_bin\", 2000, 300_000\n",
    "    )\n",
    "    lgbc__min_child_samples = trial.suggest_int(\n",
    "        \"lgbc__min_child_samples\", 20, 500\n",
    "    )\n",
    "    lgbc__reg_alpha = trial.suggest_uniform(\"lgbc__reg_alpha\", 0.0, 1.0)\n",
    "    lgbc__colsample_bytree = trial.suggest_uniform(\n",
    "        \"lgbc__colsample_bytree\", 0.6, 1.0\n",
    "    )\n",
    "    lgbc__learning_rate = trial.suggest_loguniform(\n",
    "        \"lgbc__learning_rate\", 1e-3, 1e-1\n",
    "    )\n",
    "\n",
    "    params = {\n",
    "        \"tfidf__analyzer\": tfidf__analyzer,\n",
    "        \"tfidf__lowercase\": tfidf__lowercase,\n",
    "        \"tfidf__max_features\": tfidf__max_features,\n",
    "        \"lgbc__num_leaves\": lgbc__num_leaves,\n",
    "        \"lgbc__max_depth\": lgbc__max_depth,\n",
    "        \"lgbc__n_estimators\": lgbc__n_estimators,\n",
    "        \"lgbc__subsample_for_bin\": lgbc__subsample_for_bin,\n",
    "        \"lgbc__min_child_samples\": lgbc__min_child_samples,\n",
    "        \"lgbc__reg_alpha\": lgbc__reg_alpha,\n",
    "        \"lgbc__colsample_bytree\": lgbc__colsample_bytree,\n",
    "        \"lgbc__learning_rate\": lgbc__learning_rate,\n",
    "    }\n",
    "\n",
    "    model.set_params(**params)\n",
    "\n",
    "    return -1 * np.mean(cross_val_score(model, X, y, cv=8, n_jobs=-1))"
   ]
  },
  {
   "cell_type": "code",
   "execution_count": 6,
   "metadata": {},
   "outputs": [
    {
     "name": "stderr",
     "output_type": "stream",
     "text": [
      "[I 2023-11-05 14:50:37,237] A new study created in memory with name: no-name-57860e42-77ce-4da9-a7d7-e05dcf7e9a71\n",
      "[I 2023-11-05 14:50:44,753] Trial 0 finished with value: -0.6422 and parameters: {'tfidf__analyzer': 'word', 'tfidf__lowercase': True, 'tfidf__max_features': 5687, 'lgbc__num_leaves': 18, 'lgbc__max_depth': 68, 'lgbc__n_estimators': 17, 'lgbc__subsample_for_bin': 161774, 'lgbc__min_child_samples': 42, 'lgbc__reg_alpha': 0.6782263437420829, 'lgbc__colsample_bytree': 0.7160039924526378, 'lgbc__learning_rate': 0.0011808572133990506}. Best is trial 0 with value: -0.6422.\n",
      "[I 2023-11-05 14:50:58,905] Trial 1 finished with value: -0.2862 and parameters: {'tfidf__analyzer': 'char_wb', 'tfidf__lowercase': False, 'tfidf__max_features': 4449, 'lgbc__num_leaves': 117, 'lgbc__max_depth': 36, 'lgbc__n_estimators': 135, 'lgbc__subsample_for_bin': 129298, 'lgbc__min_child_samples': 132, 'lgbc__reg_alpha': 0.7765518329150993, 'lgbc__colsample_bytree': 0.9931820171585545, 'lgbc__learning_rate': 0.0020158171629172574}. Best is trial 0 with value: -0.6422.\n",
      "[I 2023-11-05 14:51:07,039] Trial 2 finished with value: -0.4054 and parameters: {'tfidf__analyzer': 'char', 'tfidf__lowercase': False, 'tfidf__max_features': 2111, 'lgbc__num_leaves': 19, 'lgbc__max_depth': 91, 'lgbc__n_estimators': 194, 'lgbc__subsample_for_bin': 166164, 'lgbc__min_child_samples': 476, 'lgbc__reg_alpha': 0.8514986304153899, 'lgbc__colsample_bytree': 0.6813273719706866, 'lgbc__learning_rate': 0.06185283876150302}. Best is trial 0 with value: -0.6422.\n",
      "[I 2023-11-05 14:51:11,069] Trial 3 finished with value: -0.3298 and parameters: {'tfidf__analyzer': 'char', 'tfidf__lowercase': True, 'tfidf__max_features': 1448, 'lgbc__num_leaves': 32, 'lgbc__max_depth': 91, 'lgbc__n_estimators': 55, 'lgbc__subsample_for_bin': 251966, 'lgbc__min_child_samples': 202, 'lgbc__reg_alpha': 0.6509940673049269, 'lgbc__colsample_bytree': 0.6596440366258968, 'lgbc__learning_rate': 0.038948125932321595}. Best is trial 0 with value: -0.6422.\n",
      "[I 2023-11-05 14:51:16,239] Trial 4 finished with value: -0.1898 and parameters: {'tfidf__analyzer': 'word', 'tfidf__lowercase': False, 'tfidf__max_features': 8862, 'lgbc__num_leaves': 12, 'lgbc__max_depth': 82, 'lgbc__n_estimators': 130, 'lgbc__subsample_for_bin': 62813, 'lgbc__min_child_samples': 356, 'lgbc__reg_alpha': 0.3935998561306565, 'lgbc__colsample_bytree': 0.8266705930883447, 'lgbc__learning_rate': 0.0027924423481557638}. Best is trial 0 with value: -0.6422.\n",
      "[I 2023-11-05 14:51:32,823] Trial 5 finished with value: -0.34559999999999996 and parameters: {'tfidf__analyzer': 'char_wb', 'tfidf__lowercase': False, 'tfidf__max_features': 5273, 'lgbc__num_leaves': 96, 'lgbc__max_depth': 9, 'lgbc__n_estimators': 110, 'lgbc__subsample_for_bin': 205420, 'lgbc__min_child_samples': 83, 'lgbc__reg_alpha': 0.25306849200902204, 'lgbc__colsample_bytree': 0.851329359558421, 'lgbc__learning_rate': 0.006111616340708186}. Best is trial 0 with value: -0.6422.\n",
      "[I 2023-11-05 14:51:41,157] Trial 6 finished with value: -0.40759999999999996 and parameters: {'tfidf__analyzer': 'char_wb', 'tfidf__lowercase': False, 'tfidf__max_features': 6773, 'lgbc__num_leaves': 131, 'lgbc__max_depth': 23, 'lgbc__n_estimators': 55, 'lgbc__subsample_for_bin': 19786, 'lgbc__min_child_samples': 96, 'lgbc__reg_alpha': 0.8378110375284769, 'lgbc__colsample_bytree': 0.7741010345216937, 'lgbc__learning_rate': 0.052148636888042624}. Best is trial 0 with value: -0.6422.\n",
      "[I 2023-11-05 14:51:54,459] Trial 7 finished with value: -0.4068 and parameters: {'tfidf__analyzer': 'char_wb', 'tfidf__lowercase': False, 'tfidf__max_features': 1721, 'lgbc__num_leaves': 118, 'lgbc__max_depth': 49, 'lgbc__n_estimators': 137, 'lgbc__subsample_for_bin': 115048, 'lgbc__min_child_samples': 172, 'lgbc__reg_alpha': 0.1146493251352424, 'lgbc__colsample_bytree': 0.7224486932716425, 'lgbc__learning_rate': 0.025592769149720165}. Best is trial 0 with value: -0.6422.\n",
      "[I 2023-11-05 14:52:02,058] Trial 8 finished with value: -0.3194 and parameters: {'tfidf__analyzer': 'word', 'tfidf__lowercase': False, 'tfidf__max_features': 1829, 'lgbc__num_leaves': 35, 'lgbc__max_depth': 85, 'lgbc__n_estimators': 118, 'lgbc__subsample_for_bin': 133241, 'lgbc__min_child_samples': 275, 'lgbc__reg_alpha': 0.2614122262682599, 'lgbc__colsample_bytree': 0.8525871673410714, 'lgbc__learning_rate': 0.029022502253789238}. Best is trial 0 with value: -0.6422.\n",
      "[I 2023-11-05 14:52:04,253] Trial 9 finished with value: -0.20179999999999998 and parameters: {'tfidf__analyzer': 'word', 'tfidf__lowercase': True, 'tfidf__max_features': 1504, 'lgbc__num_leaves': 36, 'lgbc__max_depth': 40, 'lgbc__n_estimators': 26, 'lgbc__subsample_for_bin': 192638, 'lgbc__min_child_samples': 303, 'lgbc__reg_alpha': 0.5607725587542303, 'lgbc__colsample_bytree': 0.9658602117880708, 'lgbc__learning_rate': 0.001870297115116143}. Best is trial 0 with value: -0.6422.\n",
      "[I 2023-11-05 14:52:08,739] Trial 10 finished with value: -0.6554 and parameters: {'tfidf__analyzer': 'word', 'tfidf__lowercase': True, 'tfidf__max_features': 9895, 'lgbc__num_leaves': 67, 'lgbc__max_depth': 66, 'lgbc__n_estimators': 10, 'lgbc__subsample_for_bin': 268659, 'lgbc__min_child_samples': 43, 'lgbc__reg_alpha': 0.6158006500863916, 'lgbc__colsample_bytree': 0.6059212220284252, 'lgbc__learning_rate': 0.0011200948200043815}. Best is trial 10 with value: -0.6554.\n",
      "[I 2023-11-05 14:52:15,784] Trial 11 finished with value: -0.7082 and parameters: {'tfidf__analyzer': 'word', 'tfidf__lowercase': True, 'tfidf__max_features': 9734, 'lgbc__num_leaves': 70, 'lgbc__max_depth': 63, 'lgbc__n_estimators': 11, 'lgbc__subsample_for_bin': 257722, 'lgbc__min_child_samples': 23, 'lgbc__reg_alpha': 0.9783654425652057, 'lgbc__colsample_bytree': 0.6124508310216342, 'lgbc__learning_rate': 0.0010399409710751526}. Best is trial 11 with value: -0.7082.\n",
      "[I 2023-11-05 14:52:32,154] Trial 12 finished with value: -0.6364 and parameters: {'tfidf__analyzer': 'word', 'tfidf__lowercase': True, 'tfidf__max_features': 9755, 'lgbc__num_leaves': 72, 'lgbc__max_depth': 61, 'lgbc__n_estimators': 63, 'lgbc__subsample_for_bin': 290893, 'lgbc__min_child_samples': 55, 'lgbc__reg_alpha': 0.9247518130503332, 'lgbc__colsample_bytree': 0.6058300241690844, 'lgbc__learning_rate': 0.0010388952357687047}. Best is trial 11 with value: -0.7082.\n",
      "[I 2023-11-05 14:52:40,668] Trial 13 finished with value: -0.7041999999999999 and parameters: {'tfidf__analyzer': 'word', 'tfidf__lowercase': True, 'tfidf__max_features': 8126, 'lgbc__num_leaves': 63, 'lgbc__max_depth': 67, 'lgbc__n_estimators': 16, 'lgbc__subsample_for_bin': 289826, 'lgbc__min_child_samples': 30, 'lgbc__reg_alpha': 0.9987930864556086, 'lgbc__colsample_bytree': 0.6059691351152681, 'lgbc__learning_rate': 0.005297584973559531}. Best is trial 11 with value: -0.7082.\n",
      "[I 2023-11-05 14:52:48,467] Trial 14 finished with value: -0.4072 and parameters: {'tfidf__analyzer': 'word', 'tfidf__lowercase': True, 'tfidf__max_features': 8108, 'lgbc__num_leaves': 56, 'lgbc__max_depth': 74, 'lgbc__n_estimators': 85, 'lgbc__subsample_for_bin': 238392, 'lgbc__min_child_samples': 174, 'lgbc__reg_alpha': 0.9092780754443655, 'lgbc__colsample_bytree': 0.6042701546599243, 'lgbc__learning_rate': 0.004802150539505638}. Best is trial 11 with value: -0.7082.\n",
      "[I 2023-11-05 14:53:06,279] Trial 15 finished with value: -0.7596 and parameters: {'tfidf__analyzer': 'word', 'tfidf__lowercase': True, 'tfidf__max_features': 7589, 'lgbc__num_leaves': 94, 'lgbc__max_depth': 54, 'lgbc__n_estimators': 34, 'lgbc__subsample_for_bin': 294927, 'lgbc__min_child_samples': 20, 'lgbc__reg_alpha': 0.9893413530979781, 'lgbc__colsample_bytree': 0.6433117238406676, 'lgbc__learning_rate': 0.009970060945884953}. Best is trial 15 with value: -0.7596.\n",
      "[I 2023-11-05 14:53:08,815] Trial 16 finished with value: -0.2552 and parameters: {'tfidf__analyzer': 'char', 'tfidf__lowercase': True, 'tfidf__max_features': 6907, 'lgbc__num_leaves': 92, 'lgbc__max_depth': 45, 'lgbc__n_estimators': 42, 'lgbc__subsample_for_bin': 240716, 'lgbc__min_child_samples': 387, 'lgbc__reg_alpha': 0.9879817139446165, 'lgbc__colsample_bytree': 0.6745290777773761, 'lgbc__learning_rate': 0.013994347875004644}. Best is trial 15 with value: -0.7596.\n",
      "[I 2023-11-05 14:53:20,786] Trial 17 finished with value: -0.6204 and parameters: {'tfidf__analyzer': 'word', 'tfidf__lowercase': True, 'tfidf__max_features': 7057, 'lgbc__num_leaves': 91, 'lgbc__max_depth': 55, 'lgbc__n_estimators': 91, 'lgbc__subsample_for_bin': 209508, 'lgbc__min_child_samples': 121, 'lgbc__reg_alpha': 0.8192651297066009, 'lgbc__colsample_bytree': 0.7604223397486746, 'lgbc__learning_rate': 0.0832809763520807}. Best is trial 15 with value: -0.7596.\n",
      "[I 2023-11-05 14:53:24,596] Trial 18 finished with value: -0.367 and parameters: {'tfidf__analyzer': 'word', 'tfidf__lowercase': True, 'tfidf__max_features': 3505, 'lgbc__num_leaves': 143, 'lgbc__max_depth': 28, 'lgbc__n_estimators': 38, 'lgbc__subsample_for_bin': 285649, 'lgbc__min_child_samples': 206, 'lgbc__reg_alpha': 0.7598474112048967, 'lgbc__colsample_bytree': 0.6542526359930568, 'lgbc__learning_rate': 0.012782785961944015}. Best is trial 15 with value: -0.7596.\n",
      "[I 2023-11-05 14:53:50,442] Trial 19 finished with value: -0.36719999999999997 and parameters: {'tfidf__analyzer': 'char', 'tfidf__lowercase': True, 'tfidf__max_features': 8462, 'lgbc__num_leaves': 50, 'lgbc__max_depth': 53, 'lgbc__n_estimators': 170, 'lgbc__subsample_for_bin': 227127, 'lgbc__min_child_samples': 21, 'lgbc__reg_alpha': 0.7272836308907625, 'lgbc__colsample_bytree': 0.6482830202964556, 'lgbc__learning_rate': 0.008783767028825074}. Best is trial 15 with value: -0.7596.\n"
     ]
    },
    {
     "data": {
      "text/plain": [
       "['study.pkl']"
      ]
     },
     "execution_count": 6,
     "metadata": {},
     "output_type": "execute_result"
    }
   ],
   "source": [
    "if os.path.isfile(\"optuna_study.pkl\"):\n",
    "    study = joblib.load(\"optuna_study.pkl\")\n",
    "else:\n",
    "    study = optuna.create_study()\n",
    "    study.optimize(objective, n_trials=20, timeout=3600)\n",
    "    joblib.dump(study, \"study.pkl\")"
   ]
  },
  {
   "cell_type": "code",
   "execution_count": 7,
   "metadata": {},
   "outputs": [
    {
     "name": "stdout",
     "output_type": "stream",
     "text": [
      "Best_value: -0.7596\n"
     ]
    }
   ],
   "source": [
    "print(\"Best_value:\", study.best_value)"
   ]
  },
  {
   "cell_type": "code",
   "execution_count": 8,
   "metadata": {},
   "outputs": [
    {
     "data": {
      "text/html": [
       "<style>#sk-container-id-1 {color: black;background-color: white;}#sk-container-id-1 pre{padding: 0;}#sk-container-id-1 div.sk-toggleable {background-color: white;}#sk-container-id-1 label.sk-toggleable__label {cursor: pointer;display: block;width: 100%;margin-bottom: 0;padding: 0.3em;box-sizing: border-box;text-align: center;}#sk-container-id-1 label.sk-toggleable__label-arrow:before {content: \"▸\";float: left;margin-right: 0.25em;color: #696969;}#sk-container-id-1 label.sk-toggleable__label-arrow:hover:before {color: black;}#sk-container-id-1 div.sk-estimator:hover label.sk-toggleable__label-arrow:before {color: black;}#sk-container-id-1 div.sk-toggleable__content {max-height: 0;max-width: 0;overflow: hidden;text-align: left;background-color: #f0f8ff;}#sk-container-id-1 div.sk-toggleable__content pre {margin: 0.2em;color: black;border-radius: 0.25em;background-color: #f0f8ff;}#sk-container-id-1 input.sk-toggleable__control:checked~div.sk-toggleable__content {max-height: 200px;max-width: 100%;overflow: auto;}#sk-container-id-1 input.sk-toggleable__control:checked~label.sk-toggleable__label-arrow:before {content: \"▾\";}#sk-container-id-1 div.sk-estimator input.sk-toggleable__control:checked~label.sk-toggleable__label {background-color: #d4ebff;}#sk-container-id-1 div.sk-label input.sk-toggleable__control:checked~label.sk-toggleable__label {background-color: #d4ebff;}#sk-container-id-1 input.sk-hidden--visually {border: 0;clip: rect(1px 1px 1px 1px);clip: rect(1px, 1px, 1px, 1px);height: 1px;margin: -1px;overflow: hidden;padding: 0;position: absolute;width: 1px;}#sk-container-id-1 div.sk-estimator {font-family: monospace;background-color: #f0f8ff;border: 1px dotted black;border-radius: 0.25em;box-sizing: border-box;margin-bottom: 0.5em;}#sk-container-id-1 div.sk-estimator:hover {background-color: #d4ebff;}#sk-container-id-1 div.sk-parallel-item::after {content: \"\";width: 100%;border-bottom: 1px solid gray;flex-grow: 1;}#sk-container-id-1 div.sk-label:hover label.sk-toggleable__label {background-color: #d4ebff;}#sk-container-id-1 div.sk-serial::before {content: \"\";position: absolute;border-left: 1px solid gray;box-sizing: border-box;top: 0;bottom: 0;left: 50%;z-index: 0;}#sk-container-id-1 div.sk-serial {display: flex;flex-direction: column;align-items: center;background-color: white;padding-right: 0.2em;padding-left: 0.2em;position: relative;}#sk-container-id-1 div.sk-item {position: relative;z-index: 1;}#sk-container-id-1 div.sk-parallel {display: flex;align-items: stretch;justify-content: center;background-color: white;position: relative;}#sk-container-id-1 div.sk-item::before, #sk-container-id-1 div.sk-parallel-item::before {content: \"\";position: absolute;border-left: 1px solid gray;box-sizing: border-box;top: 0;bottom: 0;left: 50%;z-index: -1;}#sk-container-id-1 div.sk-parallel-item {display: flex;flex-direction: column;z-index: 1;position: relative;background-color: white;}#sk-container-id-1 div.sk-parallel-item:first-child::after {align-self: flex-end;width: 50%;}#sk-container-id-1 div.sk-parallel-item:last-child::after {align-self: flex-start;width: 50%;}#sk-container-id-1 div.sk-parallel-item:only-child::after {width: 0;}#sk-container-id-1 div.sk-dashed-wrapped {border: 1px dashed gray;margin: 0 0.4em 0.5em 0.4em;box-sizing: border-box;padding-bottom: 0.4em;background-color: white;}#sk-container-id-1 div.sk-label label {font-family: monospace;font-weight: bold;display: inline-block;line-height: 1.2em;}#sk-container-id-1 div.sk-label-container {text-align: center;}#sk-container-id-1 div.sk-container {/* jupyter's `normalize.less` sets `[hidden] { display: none; }` but bootstrap.min.css set `[hidden] { display: none !important; }` so we also need the `!important` here to be able to override the default hidden behavior on the sphinx rendered scikit-learn.org. See: https://github.com/scikit-learn/scikit-learn/issues/21755 */display: inline-block !important;position: relative;}#sk-container-id-1 div.sk-text-repr-fallback {display: none;}</style><div id=\"sk-container-id-1\" class=\"sk-top-container\"><div class=\"sk-text-repr-fallback\"><pre>Pipeline(steps=[(&#x27;tfidf&#x27;,\n",
       "                 TfidfVectorizer(max_features=7589, stop_words=&#x27;english&#x27;)),\n",
       "                (&#x27;lgbc&#x27;,\n",
       "                 LGBMClassifier(class_weight=&#x27;balanced&#x27;,\n",
       "                                colsample_bytree=0.6433117238406676,\n",
       "                                learning_rate=0.009970060945884953,\n",
       "                                max_depth=54, n_estimators=34, n_jobs=1,\n",
       "                                num_leaves=94, objective=&#x27;f1_score&#x27;,\n",
       "                                reg_alpha=0.9893413530979781,\n",
       "                                subsample_for_bin=294927))])</pre><b>In a Jupyter environment, please rerun this cell to show the HTML representation or trust the notebook. <br />On GitHub, the HTML representation is unable to render, please try loading this page with nbviewer.org.</b></div><div class=\"sk-container\" hidden><div class=\"sk-item sk-dashed-wrapped\"><div class=\"sk-label-container\"><div class=\"sk-label sk-toggleable\"><input class=\"sk-toggleable__control sk-hidden--visually\" id=\"sk-estimator-id-1\" type=\"checkbox\" ><label for=\"sk-estimator-id-1\" class=\"sk-toggleable__label sk-toggleable__label-arrow\">Pipeline</label><div class=\"sk-toggleable__content\"><pre>Pipeline(steps=[(&#x27;tfidf&#x27;,\n",
       "                 TfidfVectorizer(max_features=7589, stop_words=&#x27;english&#x27;)),\n",
       "                (&#x27;lgbc&#x27;,\n",
       "                 LGBMClassifier(class_weight=&#x27;balanced&#x27;,\n",
       "                                colsample_bytree=0.6433117238406676,\n",
       "                                learning_rate=0.009970060945884953,\n",
       "                                max_depth=54, n_estimators=34, n_jobs=1,\n",
       "                                num_leaves=94, objective=&#x27;f1_score&#x27;,\n",
       "                                reg_alpha=0.9893413530979781,\n",
       "                                subsample_for_bin=294927))])</pre></div></div></div><div class=\"sk-serial\"><div class=\"sk-item\"><div class=\"sk-estimator sk-toggleable\"><input class=\"sk-toggleable__control sk-hidden--visually\" id=\"sk-estimator-id-2\" type=\"checkbox\" ><label for=\"sk-estimator-id-2\" class=\"sk-toggleable__label sk-toggleable__label-arrow\">TfidfVectorizer</label><div class=\"sk-toggleable__content\"><pre>TfidfVectorizer(max_features=7589, stop_words=&#x27;english&#x27;)</pre></div></div></div><div class=\"sk-item\"><div class=\"sk-estimator sk-toggleable\"><input class=\"sk-toggleable__control sk-hidden--visually\" id=\"sk-estimator-id-3\" type=\"checkbox\" ><label for=\"sk-estimator-id-3\" class=\"sk-toggleable__label sk-toggleable__label-arrow\">LGBMClassifier</label><div class=\"sk-toggleable__content\"><pre>LGBMClassifier(class_weight=&#x27;balanced&#x27;, colsample_bytree=0.6433117238406676,\n",
       "               learning_rate=0.009970060945884953, max_depth=54,\n",
       "               n_estimators=34, n_jobs=1, num_leaves=94, objective=&#x27;f1_score&#x27;,\n",
       "               reg_alpha=0.9893413530979781, subsample_for_bin=294927)</pre></div></div></div></div></div></div></div>"
      ],
      "text/plain": [
       "Pipeline(steps=[('tfidf',\n",
       "                 TfidfVectorizer(max_features=7589, stop_words='english')),\n",
       "                ('lgbc',\n",
       "                 LGBMClassifier(class_weight='balanced',\n",
       "                                colsample_bytree=0.6433117238406676,\n",
       "                                learning_rate=0.009970060945884953,\n",
       "                                max_depth=54, n_estimators=34, n_jobs=1,\n",
       "                                num_leaves=94, objective='f1_score',\n",
       "                                reg_alpha=0.9893413530979781,\n",
       "                                subsample_for_bin=294927))])"
      ]
     },
     "execution_count": 8,
     "metadata": {},
     "output_type": "execute_result"
    }
   ],
   "source": [
    "model.set_params(**study.best_params)\n",
    "model.fit(X, y)"
   ]
  },
  {
   "cell_type": "code",
   "execution_count": null,
   "metadata": {},
   "outputs": [],
   "source": []
  }
 ],
 "metadata": {
  "kernelspec": {
   "display_name": "venv",
   "language": "python",
   "name": "python3"
  },
  "language_info": {
   "codemirror_mode": {
    "name": "ipython",
    "version": 3
   },
   "file_extension": ".py",
   "mimetype": "text/x-python",
   "name": "python",
   "nbconvert_exporter": "python",
   "pygments_lexer": "ipython3",
   "version": "3.11.5"
  }
 },
 "nbformat": 4,
 "nbformat_minor": 2
}
