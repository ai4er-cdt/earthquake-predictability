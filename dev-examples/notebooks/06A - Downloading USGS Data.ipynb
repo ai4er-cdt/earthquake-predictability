{
 "cells": [
  {
   "cell_type": "code",
   "execution_count": 1,
   "metadata": {},
   "outputs": [],
   "source": [
    "import os\n",
    "\n",
    "import requests"
   ]
  },
  {
   "cell_type": "code",
   "execution_count": 2,
   "metadata": {},
   "outputs": [],
   "source": [
    "BASE_DIR = \"/gws/nopw/j04/ai4er/users/pn341/earthquake-predictability/data/usgs_sigquakes\""
   ]
  },
  {
   "cell_type": "code",
   "execution_count": 3,
   "metadata": {},
   "outputs": [],
   "source": [
    "for x in range(2020, 2023):\n",
    "    for y in range(1, 13):\n",
    "        url = (\n",
    "            \"https://earthquake.usgs.gov/fdsnws/event/1/query.csv?starttime=\"\n",
    "            + str(x)\n",
    "            + \"-\"\n",
    "            + str(y)\n",
    "            + \"-31%2023:59:59&endtime=\"\n",
    "            + str(x)\n",
    "            + \"-\"\n",
    "            + str(y + 1)\n",
    "            + \"-31%2023:59:59&minmagnitude=2.5&orderby=time\"\n",
    "        )\n",
    "        # print(\"Fetching:\", url)\n",
    "        response = requests.get(url)\n",
    "        os.makedirs(f\"{BASE_DIR}/{x}\", exist_ok=True)\n",
    "        with open(\n",
    "            os.path.join(\n",
    "                f\"{BASE_DIR}/{x}\",\n",
    "                \"USGS_SIGQUAKES_\" + str(x) + \"_\" + f\"{y:02}\" + \".csv\",\n",
    "            ),\n",
    "            \"wb\",\n",
    "        ) as f:\n",
    "            f.write(response.content)"
   ]
  }
 ],
 "metadata": {
  "kernelspec": {
   "display_name": "base",
   "language": "python",
   "name": "python3"
  },
  "language_info": {
   "codemirror_mode": {
    "name": "ipython",
    "version": 3
   },
   "file_extension": ".py",
   "mimetype": "text/x-python",
   "name": "python",
   "nbconvert_exporter": "python",
   "pygments_lexer": "ipython3",
   "version": "3.11.5"
  }
 },
 "nbformat": 4,
 "nbformat_minor": 2
}
