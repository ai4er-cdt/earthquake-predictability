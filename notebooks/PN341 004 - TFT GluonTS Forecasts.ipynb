{
 "cells": [
  {
   "cell_type": "code",
   "execution_count": 1,
   "metadata": {},
   "outputs": [],
   "source": [
    "import sys\n",
    "\n",
    "MAIN_DICT = \"/gws/nopw/j04/ai4er/users/pn341/earthquake-predictability\"\n",
    "sys.path.append(MAIN_DICT)"
   ]
  },
  {
   "cell_type": "code",
   "execution_count": 2,
   "metadata": {
    "colab": {
     "base_uri": "https://localhost:8080/"
    },
    "executionInfo": {
     "elapsed": 10203,
     "status": "ok",
     "timestamp": 1705849324762,
     "user": {
      "displayName": "Pritthijit Nath",
      "userId": "00517056576512120211"
     },
     "user_tz": 0
    },
    "id": "R4gL4JQMlCp-",
    "outputId": "e62ad173-ff73-4c0c-e373-5c8af0cbe57b"
   },
   "outputs": [],
   "source": [
    "import configparser\n",
    "\n",
    "import matplotlib.pyplot as plt\n",
    "import numpy as np\n",
    "import pandas as pd\n",
    "import torch\n",
    "from gluonts.dataset.pandas import PandasDataset\n",
    "from gluonts.dataset.split import split\n",
    "from gluonts.torch import TemporalFusionTransformerEstimator\n",
    "from sklearn.metrics import mean_squared_error"
   ]
  },
  {
   "cell_type": "code",
   "execution_count": 3,
   "metadata": {},
   "outputs": [],
   "source": [
    "from utils.dataset import SlowEarthquakeDataset\n",
    "from utils.nn_io import save_model"
   ]
  },
  {
   "cell_type": "code",
   "execution_count": 4,
   "metadata": {
    "executionInfo": {
     "elapsed": 19,
     "status": "ok",
     "timestamp": 1705849324762,
     "user": {
      "displayName": "Pritthijit Nath",
      "userId": "00517056576512120211"
     },
     "user_tz": 0
    },
    "id": "B3dkMmqqlf6N"
   },
   "outputs": [],
   "source": [
    "seed = 42\n",
    "np.random.seed(seed)\n",
    "torch.manual_seed(seed)\n",
    "torch.backends.cudnn.deterministic = True"
   ]
  },
  {
   "cell_type": "code",
   "execution_count": 5,
   "metadata": {},
   "outputs": [
    {
     "data": {
      "text/html": [
       "<div>\n",
       "<style scoped>\n",
       "    .dataframe tbody tr th:only-of-type {\n",
       "        vertical-align: middle;\n",
       "    }\n",
       "\n",
       "    .dataframe tbody tr th {\n",
       "        vertical-align: top;\n",
       "    }\n",
       "\n",
       "    .dataframe thead th {\n",
       "        text-align: right;\n",
       "    }\n",
       "</style>\n",
       "<table border=\"1\" class=\"dataframe\">\n",
       "  <thead>\n",
       "    <tr style=\"text-align: right;\">\n",
       "      <th></th>\n",
       "      <th>obs_shear_stress</th>\n",
       "      <th>obs_normal_stress</th>\n",
       "      <th>time</th>\n",
       "    </tr>\n",
       "  </thead>\n",
       "  <tbody>\n",
       "    <tr>\n",
       "      <th>0</th>\n",
       "      <td>1.29911</td>\n",
       "      <td>2.99288</td>\n",
       "      <td>0.000</td>\n",
       "    </tr>\n",
       "    <tr>\n",
       "      <th>1</th>\n",
       "      <td>1.29903</td>\n",
       "      <td>2.99008</td>\n",
       "      <td>0.001</td>\n",
       "    </tr>\n",
       "    <tr>\n",
       "      <th>2</th>\n",
       "      <td>1.29853</td>\n",
       "      <td>2.98854</td>\n",
       "      <td>0.002</td>\n",
       "    </tr>\n",
       "    <tr>\n",
       "      <th>3</th>\n",
       "      <td>1.29871</td>\n",
       "      <td>2.98849</td>\n",
       "      <td>0.003</td>\n",
       "    </tr>\n",
       "    <tr>\n",
       "      <th>4</th>\n",
       "      <td>1.29854</td>\n",
       "      <td>2.99069</td>\n",
       "      <td>0.004</td>\n",
       "    </tr>\n",
       "  </tbody>\n",
       "</table>\n",
       "</div>"
      ],
      "text/plain": [
       "   obs_shear_stress  obs_normal_stress   time\n",
       "0           1.29911            2.99288  0.000\n",
       "1           1.29903            2.99008  0.001\n",
       "2           1.29853            2.98854  0.002\n",
       "3           1.29871            2.98849  0.003\n",
       "4           1.29854            2.99069  0.004"
      ]
     },
     "execution_count": 5,
     "metadata": {},
     "output_type": "execute_result"
    }
   ],
   "source": [
    "EXPERIMENT = \"p4581\"\n",
    "TS_COLUMN = \"obs_shear_stress\"\n",
    "\n",
    "dataset = SlowEarthquakeDataset([EXPERIMENT])\n",
    "ds_exp = dataset[EXPERIMENT]\n",
    "X, Y, t = ds_exp[\"X\"], ds_exp[\"Y\"], ds_exp[\"t\"]\n",
    "\n",
    "ts_data = pd.DataFrame(\n",
    "    np.hstack((X, Y, t.reshape(-1, 1))),\n",
    "    columns=[ds_exp[\"hdrs\"][\"X\"], *ds_exp[\"hdrs\"][\"Y\"], ds_exp[\"hdrs\"][\"t\"]],\n",
    ")\n",
    "\n",
    "ts_data = ts_data.dropna(axis=1)\n",
    "ts_data.head()"
   ]
  },
  {
   "cell_type": "code",
   "execution_count": 6,
   "metadata": {},
   "outputs": [
    {
     "data": {
      "text/html": [
       "<div>\n",
       "<style scoped>\n",
       "    .dataframe tbody tr th:only-of-type {\n",
       "        vertical-align: middle;\n",
       "    }\n",
       "\n",
       "    .dataframe tbody tr th {\n",
       "        vertical-align: top;\n",
       "    }\n",
       "\n",
       "    .dataframe thead th {\n",
       "        text-align: right;\n",
       "    }\n",
       "</style>\n",
       "<table border=\"1\" class=\"dataframe\">\n",
       "  <thead>\n",
       "    <tr style=\"text-align: right;\">\n",
       "      <th></th>\n",
       "      <th>obs_shear_stress</th>\n",
       "      <th>obs_normal_stress</th>\n",
       "      <th>time</th>\n",
       "    </tr>\n",
       "  </thead>\n",
       "  <tbody>\n",
       "    <tr>\n",
       "      <th>0</th>\n",
       "      <td>1.299621</td>\n",
       "      <td>2.989553</td>\n",
       "      <td>0.050500</td>\n",
       "    </tr>\n",
       "    <tr>\n",
       "      <th>1</th>\n",
       "      <td>1.301409</td>\n",
       "      <td>2.989707</td>\n",
       "      <td>0.150501</td>\n",
       "    </tr>\n",
       "    <tr>\n",
       "      <th>2</th>\n",
       "      <td>1.303105</td>\n",
       "      <td>2.989653</td>\n",
       "      <td>0.250501</td>\n",
       "    </tr>\n",
       "    <tr>\n",
       "      <th>3</th>\n",
       "      <td>1.304593</td>\n",
       "      <td>2.989767</td>\n",
       "      <td>0.350502</td>\n",
       "    </tr>\n",
       "    <tr>\n",
       "      <th>4</th>\n",
       "      <td>1.306144</td>\n",
       "      <td>2.989687</td>\n",
       "      <td>0.450502</td>\n",
       "    </tr>\n",
       "  </tbody>\n",
       "</table>\n",
       "</div>"
      ],
      "text/plain": [
       "   obs_shear_stress  obs_normal_stress      time\n",
       "0          1.299621           2.989553  0.050500\n",
       "1          1.301409           2.989707  0.150501\n",
       "2          1.303105           2.989653  0.250501\n",
       "3          1.304593           2.989767  0.350502\n",
       "4          1.306144           2.989687  0.450502"
      ]
     },
     "execution_count": 6,
     "metadata": {},
     "output_type": "execute_result"
    }
   ],
   "source": [
    "ts_data = ts_data.rolling(window=int(1e2), step=int(1e2)).mean().dropna()\n",
    "ts_data = ts_data.reset_index(drop=True)\n",
    "ts_data = ts_data.dropna()\n",
    "ts_data.head()"
   ]
  },
  {
   "cell_type": "code",
   "execution_count": 7,
   "metadata": {
    "colab": {
     "base_uri": "https://localhost:8080/",
     "height": 238
    },
    "executionInfo": {
     "elapsed": 18,
     "status": "ok",
     "timestamp": 1705849324762,
     "user": {
      "displayName": "Pritthijit Nath",
      "userId": "00517056576512120211"
     },
     "user_tz": 0
    },
    "id": "1uq2KzjOljfa",
    "outputId": "c2827e73-12d8-4a50-b34e-3f36a781b4f7"
   },
   "outputs": [],
   "source": [
    "# AIRLINES_CSV_URL = \"https://raw.githubusercontent.com/jbrownlee/Datasets/master/airline-passengers.csv\"\n",
    "# TS_COLUMN = \"Passengers\"\n",
    "\n",
    "# ts_data = pd.read_csv(AIRLINES_CSV_URL, index_col=0, parse_dates=True)\n",
    "# ts_data.head()"
   ]
  },
  {
   "cell_type": "code",
   "execution_count": 8,
   "metadata": {},
   "outputs": [],
   "source": [
    "dummy_idx = pd.date_range(\"2024-01-01\", periods=len(ts_data), freq=\"M\")\n",
    "ts_data = ts_data.set_index(dummy_idx)"
   ]
  },
  {
   "cell_type": "code",
   "execution_count": 9,
   "metadata": {
    "executionInfo": {
     "elapsed": 18,
     "status": "ok",
     "timestamp": 1705849324763,
     "user": {
      "displayName": "Pritthijit Nath",
      "userId": "00517056576512120211"
     },
     "user_tz": 0
    },
    "id": "0OROg-45lmC_"
   },
   "outputs": [],
   "source": [
    "dataset = PandasDataset(ts_data, target=TS_COLUMN)\n",
    "\n",
    "config = configparser.ConfigParser()\n",
    "config.read(\"../config.ini\")\n",
    "\n",
    "lookback = config.getint(\"ts_forecasting\", \"lookback\")\n",
    "forecast = config.getint(\"ts_forecasting\", \"forecast\")\n",
    "windows = config.getint(\"ts_forecasting\", \"windows\")\n",
    "\n",
    "test_size = windows * forecast\n",
    "train_size = len(ts_data) - test_size\n",
    "\n",
    "training_data, test_gen = split(dataset, offset=-test_size)\n",
    "test_data = test_gen.generate_instances(\n",
    "    prediction_length=forecast, windows=windows\n",
    ")"
   ]
  },
  {
   "cell_type": "code",
   "execution_count": 10,
   "metadata": {
    "colab": {
     "base_uri": "https://localhost:8080/",
     "height": 980,
     "referenced_widgets": [
      "30b813a63cfa475ea3e6c9805c77396c",
      "714233d8e8e946b79b0d55f5857f11fd",
      "9e4ab7a72f2d4b7799566ad954b51493",
      "693fcb6e87d74887b1d8376387c3c92d",
      "f0ca2cd438c7407ab6f3a813067cb157",
      "b4d141ac2c4a428db99726853c6c9c6f",
      "c5a4d1d62b7a44f5b3d853673019103e",
      "76435bea3ec0495e9f92530ac77c9905",
      "9938a369a7bf4e60810b8bc68f478a08",
      "ddaa9679903343669e6a5799036c98f7",
      "8b3be9c39faf4dea9f893b4f8277e0b3"
     ]
    },
    "executionInfo": {
     "elapsed": 57746,
     "status": "ok",
     "timestamp": 1705849382492,
     "user": {
      "displayName": "Pritthijit Nath",
      "userId": "00517056576512120211"
     },
     "user_tz": 0
    },
    "id": "WblcBpr4lxiB",
    "outputId": "57b77bad-1cf2-48f0-afeb-d63c62e7aed9",
    "scrolled": true
   },
   "outputs": [
    {
     "name": "stderr",
     "output_type": "stream",
     "text": [
      "/home/users/p341cam/miniconda3/envs/venv/lib/python3.11/site-packages/lightning/fabric/plugins/environments/slurm.py:191: The `srun` command is available on your system but is not used. HINT: If your intention is to run Lightning on SLURM, prepend your python command with `srun` like so: srun python /home/users/p341cam/miniconda3/envs/venv/lib/python3 ...\n",
      "GPU available: True (cuda), used: True\n",
      "TPU available: False, using: 0 TPU cores\n",
      "IPU available: False, using: 0 IPUs\n",
      "HPU available: False, using: 0 HPUs\n",
      "/home/users/p341cam/miniconda3/envs/venv/lib/python3.11/site-packages/lightning/pytorch/trainer/configuration_validator.py:74: You defined a `validation_step` but have no `val_dataloader`. Skipping val loop.\n",
      "You are using a CUDA device ('NVIDIA A100-SXM4-40GB') that has Tensor Cores. To properly utilize them, you should set `torch.set_float32_matmul_precision('medium' | 'high')` which will trade-off precision for performance. For more details, read https://pytorch.org/docs/stable/generated/torch.set_float32_matmul_precision.html#torch.set_float32_matmul_precision\n",
      "LOCAL_RANK: 0 - CUDA_VISIBLE_DEVICES: [0,1,2,3]\n",
      "\n",
      "  | Name  | Type                           | Params | In sizes                                                                           | Out sizes\n",
      "----------------------------------------------------------------------------------------------------------------------------------------------------------\n",
      "0 | model | TemporalFusionTransformerModel | 87.4 K | [[1, 50], [1, 50], [1, 1], [1, 1], [1, 51, 1], [1, 51, 0], [1, 50, 0], [1, 50, 0]] | [1, 9, 1]\n",
      "----------------------------------------------------------------------------------------------------------------------------------------------------------\n",
      "87.4 K    Trainable params\n",
      "0         Non-trainable params\n",
      "87.4 K    Total params\n",
      "0.350     Total estimated model params size (MB)\n"
     ]
    },
    {
     "data": {
      "application/vnd.jupyter.widget-view+json": {
       "model_id": "c2e1d04a8f174f1daccd91187e30753b",
       "version_major": 2,
       "version_minor": 0
      },
      "text/plain": [
       "Training: |                                                 | 0/? [00:00<?, ?it/s]"
      ]
     },
     "metadata": {},
     "output_type": "display_data"
    },
    {
     "name": "stderr",
     "output_type": "stream",
     "text": [
      "Epoch 0, global step 50: 'train_loss' reached 0.35692 (best 0.35692), saving model to '/gws/nopw/j04/ai4er/users/pn341/earthquake-predictability/notebooks/lightning_logs/version_23/checkpoints/epoch=0-step=50.ckpt' as top 1\n",
      "Epoch 1, global step 100: 'train_loss' reached 0.13805 (best 0.13805), saving model to '/gws/nopw/j04/ai4er/users/pn341/earthquake-predictability/notebooks/lightning_logs/version_23/checkpoints/epoch=1-step=100.ckpt' as top 1\n",
      "Epoch 2, global step 150: 'train_loss' reached 0.10047 (best 0.10047), saving model to '/gws/nopw/j04/ai4er/users/pn341/earthquake-predictability/notebooks/lightning_logs/version_23/checkpoints/epoch=2-step=150.ckpt' as top 1\n",
      "Epoch 3, global step 200: 'train_loss' reached 0.07927 (best 0.07927), saving model to '/gws/nopw/j04/ai4er/users/pn341/earthquake-predictability/notebooks/lightning_logs/version_23/checkpoints/epoch=3-step=200.ckpt' as top 1\n",
      "Epoch 4, global step 250: 'train_loss' was not in top 1\n",
      "Epoch 5, global step 300: 'train_loss' was not in top 1\n",
      "Epoch 6, global step 350: 'train_loss' reached 0.07782 (best 0.07782), saving model to '/gws/nopw/j04/ai4er/users/pn341/earthquake-predictability/notebooks/lightning_logs/version_23/checkpoints/epoch=6-step=350.ckpt' as top 1\n",
      "Epoch 7, global step 400: 'train_loss' reached 0.05844 (best 0.05844), saving model to '/gws/nopw/j04/ai4er/users/pn341/earthquake-predictability/notebooks/lightning_logs/version_23/checkpoints/epoch=7-step=400.ckpt' as top 1\n",
      "Epoch 8, global step 450: 'train_loss' was not in top 1\n",
      "Epoch 9, global step 500: 'train_loss' was not in top 1\n",
      "Epoch 10, global step 550: 'train_loss' was not in top 1\n",
      "Epoch 11, global step 600: 'train_loss' reached 0.04877 (best 0.04877), saving model to '/gws/nopw/j04/ai4er/users/pn341/earthquake-predictability/notebooks/lightning_logs/version_23/checkpoints/epoch=11-step=600.ckpt' as top 1\n",
      "Epoch 12, global step 650: 'train_loss' was not in top 1\n",
      "Epoch 13, global step 700: 'train_loss' reached 0.03569 (best 0.03569), saving model to '/gws/nopw/j04/ai4er/users/pn341/earthquake-predictability/notebooks/lightning_logs/version_23/checkpoints/epoch=13-step=700.ckpt' as top 1\n",
      "Epoch 14, global step 750: 'train_loss' was not in top 1\n",
      "Epoch 15, global step 800: 'train_loss' was not in top 1\n",
      "Epoch 16, global step 850: 'train_loss' was not in top 1\n",
      "Epoch 17, global step 900: 'train_loss' was not in top 1\n",
      "Epoch 18, global step 950: 'train_loss' was not in top 1\n",
      "Epoch 19, global step 1000: 'train_loss' was not in top 1\n",
      "Epoch 20, global step 1050: 'train_loss' was not in top 1\n",
      "Epoch 21, global step 1100: 'train_loss' was not in top 1\n",
      "Epoch 22, global step 1150: 'train_loss' was not in top 1\n",
      "Epoch 23, global step 1200: 'train_loss' was not in top 1\n",
      "Epoch 24, global step 1250: 'train_loss' was not in top 1\n",
      "`Trainer.fit` stopped: `max_epochs=25` reached.\n"
     ]
    }
   ],
   "source": [
    "model = TemporalFusionTransformerEstimator(\n",
    "    prediction_length=forecast,\n",
    "    freq=\"M\",\n",
    "    context_length=lookback,\n",
    "    trainer_kwargs={\"max_epochs\": 25, \"devices\": 1},\n",
    ").train(training_data)"
   ]
  },
  {
   "cell_type": "code",
   "execution_count": 11,
   "metadata": {
    "colab": {
     "base_uri": "https://localhost:8080/"
    },
    "executionInfo": {
     "elapsed": 16,
     "status": "ok",
     "timestamp": 1705849382492,
     "user": {
      "displayName": "Pritthijit Nath",
      "userId": "00517056576512120211"
     },
     "user_tz": 0
    },
    "id": "TaHa-RIe_6xC",
    "outputId": "ef7d64ba-8d6e-4ac4-e6b0-d6f695b4d54e"
   },
   "outputs": [
    {
     "name": "stdout",
     "output_type": "stream",
     "text": [
      "Test RMSE: 0.0229, Test R^2: 0.8684\n"
     ]
    }
   ],
   "source": [
    "from sklearn.metrics import r2_score\n",
    "\n",
    "fcast = list(model.predict(test_data.input))\n",
    "test_outputs = np.array([x[\"0.5\"] for x in fcast]).reshape(-1)\n",
    "test_iqr = np.array([0.5 * (x[\"0.9\"] - x[\"0.1\"]) for x in fcast]).reshape(-1)\n",
    "test_rmse = np.sqrt(\n",
    "    mean_squared_error(\n",
    "        test_outputs, ts_data.iloc[train_size:][TS_COLUMN].values\n",
    "    )\n",
    ")\n",
    "\n",
    "test_r2 = r2_score(test_outputs, ts_data.iloc[train_size:][TS_COLUMN].values)\n",
    "print(f\"Test RMSE: {test_rmse:.4f}, Test R^2: {test_r2:.4f}\")"
   ]
  },
  {
   "cell_type": "code",
   "execution_count": 12,
   "metadata": {
    "colab": {
     "base_uri": "https://localhost:8080/",
     "height": 472
    },
    "executionInfo": {
     "elapsed": 484,
     "status": "ok",
     "timestamp": 1705849382973,
     "user": {
      "displayName": "Pritthijit Nath",
      "userId": "00517056576512120211"
     },
     "user_tz": 0
    },
    "id": "Bp2freIu3lA8",
    "outputId": "8f80388e-b603-496c-921d-57714ef39cf4"
   },
   "outputs": [
    {
     "data": {
      "image/png": "[encoded data removed]",
      "text/plain": [
       "<Figure size 640x480 with 1 Axes>"
      ]
     },
     "metadata": {},
     "output_type": "display_data"
    }
   ],
   "source": [
    "train_outputs = np.array([[np.nan] for x in range(train_size)]).reshape(-1)\n",
    "train_iqr = np.array([[np.nan] for x in range(train_size)]).reshape(-1)\n",
    "\n",
    "all_outputs = np.concatenate((train_outputs, test_outputs))\n",
    "all_iqr = np.concatenate((train_iqr, test_iqr))\n",
    "\n",
    "test_start_index = len(ts_data) - test_size - lookback\n",
    "\n",
    "plt.plot(ts_data[TS_COLUMN].values, label=\"True values\")\n",
    "plt.plot(\n",
    "    range(0, len(all_outputs)),\n",
    "    all_outputs,\n",
    "    label=r\"Forecasts $\\pm$ IQR\",\n",
    ")\n",
    "plt.fill_between(\n",
    "    range(0, len(all_outputs)),\n",
    "    all_outputs - all_iqr,\n",
    "    all_outputs + all_iqr,\n",
    "    alpha=0.3,\n",
    "    facecolor=\"#FF9848\",\n",
    ")\n",
    "\n",
    "plt.axvline(\n",
    "    x=test_start_index, color=\"gray\", linestyle=\"--\", label=\"Test set start\"\n",
    ")\n",
    "plt.xlabel(\"Time\")\n",
    "plt.ylabel(\"Value\")\n",
    "plt.legend()\n",
    "plt.title(\"TFT Forecasts vs True Values\")\n",
    "plt.show()"
   ]
  },
  {
   "cell_type": "code",
   "execution_count": 13,
   "metadata": {
    "colab": {
     "base_uri": "https://localhost:8080/",
     "height": 472
    },
    "executionInfo": {
     "elapsed": 496,
     "status": "ok",
     "timestamp": 1705849383464,
     "user": {
      "displayName": "Pritthijit Nath",
      "userId": "00517056576512120211"
     },
     "user_tz": 0
    },
    "id": "q3ga4REa_5QR",
    "outputId": "bc171040-e084-46fd-a6a0-4d1c5d30d3d9"
   },
   "outputs": [
    {
     "data": {
      "image/png": "[encoded data removed]",
      "text/plain": [
       "<Figure size 640x480 with 1 Axes>"
      ]
     },
     "metadata": {},
     "output_type": "display_data"
    }
   ],
   "source": [
    "plt.plot(ts_data[TS_COLUMN].values[-test_size:], label=\"True values\")\n",
    "plt.plot(\n",
    "    range(test_size),\n",
    "    test_outputs,\n",
    "    label=r\"Forecasts $\\pm$ IQR\",\n",
    ")\n",
    "\n",
    "plt.fill_between(\n",
    "    range(0, test_size),\n",
    "    test_outputs - test_iqr,\n",
    "    test_outputs + test_iqr,\n",
    "    alpha=0.3,\n",
    "    facecolor=\"#FF9848\",\n",
    ")\n",
    "\n",
    "plt.xlabel(\"Time\")\n",
    "plt.ylabel(\"Value\")\n",
    "plt.legend()\n",
    "plt.title(\"TFT Forecasts vs True Values\")\n",
    "plt.show()"
   ]
  },
  {
   "cell_type": "code",
   "execution_count": 14,
   "metadata": {
    "executionInfo": {
     "elapsed": 5,
     "status": "ok",
     "timestamp": 1705849383464,
     "user": {
      "displayName": "Pritthijit Nath",
      "userId": "00517056576512120211"
     },
     "user_tz": 0
    },
    "id": "ym1scREfBncy"
   },
   "outputs": [
    {
     "name": "stdout",
     "output_type": "stream",
     "text": [
      "model and data saved to /gws/nopw/j04/ai4er/users/pn341/earthquake-predictability/results/p341cam_2024-02-05T01:23:33_gluonts\n"
     ]
    }
   ],
   "source": [
    "save_model(\n",
    "    model,\n",
    "    ts_data[TS_COLUMN].values,\n",
    "    pred=all_outputs,\n",
    "    pred_index=range(0, len(all_outputs)),\n",
    "    gluon_ts=True,\n",
    ")"
   ]
  }
 ],
 "metadata": {
  "accelerator": "GPU",
  "colab": {
   "authorship_tag": "ABX9TyNtEdqXMLbQ8n7GTqC+mich",
   "gpuType": "T4",
   "provenance": [],
   "toc_visible": true
  },
  "kernelspec": {
   "display_name": "Python 3 (ipykernel)",
   "language": "python",
   "name": "python3"
  },
  "language_info": {
   "codemirror_mode": {
    "name": "ipython",
    "version": 3
   },
   "file_extension": ".py",
   "mimetype": "text/x-python",
   "name": "python",
   "nbconvert_exporter": "python",
   "pygments_lexer": "ipython3",
   "version": "3.11.6"
  },
  "widgets": {
   "application/vnd.jupyter.widget-state+json": {
    "30b813a63cfa475ea3e6c9805c77396c": {
     "model_module": "@jupyter-widgets/controls",
     "model_module_version": "1.5.0",
     "model_name": "HBoxModel",
     "state": {
      "_dom_classes": [],
      "_model_module": "@jupyter-widgets/controls",
      "_model_module_version": "1.5.0",
      "_model_name": "HBoxModel",
      "_view_count": null,
      "_view_module": "@jupyter-widgets/controls",
      "_view_module_version": "1.5.0",
      "_view_name": "HBoxView",
      "box_style": "",
      "children": [
       "IPY_MODEL_714233d8e8e946b79b0d55f5857f11fd",
       "IPY_MODEL_9e4ab7a72f2d4b7799566ad954b51493",
       "IPY_MODEL_693fcb6e87d74887b1d8376387c3c92d"
      ],
      "layout": "IPY_MODEL_f0ca2cd438c7407ab6f3a813067cb157"
     }
    },
    "693fcb6e87d74887b1d8376387c3c92d": {
     "model_module": "@jupyter-widgets/controls",
     "model_module_version": "1.5.0",
     "model_name": "HTMLModel",
     "state": {
      "_dom_classes": [],
      "_model_module": "@jupyter-widgets/controls",
      "_model_module_version": "1.5.0",
      "_model_name": "HTMLModel",
      "_view_count": null,
      "_view_module": "@jupyter-widgets/controls",
      "_view_module_version": "1.5.0",
      "_view_name": "HTMLView",
      "description": "",
      "description_tooltip": null,
      "layout": "IPY_MODEL_ddaa9679903343669e6a5799036c98f7",
      "placeholder": "​",
      "style": "IPY_MODEL_8b3be9c39faf4dea9f893b4f8277e0b3",
      "value": " 40/? [00:02&lt;00:00, 15.82it/s, v_num=3, train_loss=56.90]"
     }
    },
    "714233d8e8e946b79b0d55f5857f11fd": {
     "model_module": "@jupyter-widgets/controls",
     "model_module_version": "1.5.0",
     "model_name": "HTMLModel",
     "state": {
      "_dom_classes": [],
      "_model_module": "@jupyter-widgets/controls",
      "_model_module_version": "1.5.0",
      "_model_name": "HTMLModel",
      "_view_count": null,
      "_view_module": "@jupyter-widgets/controls",
      "_view_module_version": "1.5.0",
      "_view_name": "HTMLView",
      "description": "",
      "description_tooltip": null,
      "layout": "IPY_MODEL_b4d141ac2c4a428db99726853c6c9c6f",
      "placeholder": "​",
      "style": "IPY_MODEL_c5a4d1d62b7a44f5b3d853673019103e",
      "value": "Epoch 9: "
     }
    },
    "76435bea3ec0495e9f92530ac77c9905": {
     "model_module": "@jupyter-widgets/base",
     "model_module_version": "1.2.0",
     "model_name": "LayoutModel",
     "state": {
      "_model_module": "@jupyter-widgets/base",
      "_model_module_version": "1.2.0",
      "_model_name": "LayoutModel",
      "_view_count": null,
      "_view_module": "@jupyter-widgets/base",
      "_view_module_version": "1.2.0",
      "_view_name": "LayoutView",
      "align_content": null,
      "align_items": null,
      "align_self": null,
      "border": null,
      "bottom": null,
      "display": null,
      "flex": "2",
      "flex_flow": null,
      "grid_area": null,
      "grid_auto_columns": null,
      "grid_auto_flow": null,
      "grid_auto_rows": null,
      "grid_column": null,
      "grid_gap": null,
      "grid_row": null,
      "grid_template_areas": null,
      "grid_template_columns": null,
      "grid_template_rows": null,
      "height": null,
      "justify_content": null,
      "justify_items": null,
      "left": null,
      "margin": null,
      "max_height": null,
      "max_width": null,
      "min_height": null,
      "min_width": null,
      "object_fit": null,
      "object_position": null,
      "order": null,
      "overflow": null,
      "overflow_x": null,
      "overflow_y": null,
      "padding": null,
      "right": null,
      "top": null,
      "visibility": null,
      "width": null
     }
    },
    "8b3be9c39faf4dea9f893b4f8277e0b3": {
     "model_module": "@jupyter-widgets/controls",
     "model_module_version": "1.5.0",
     "model_name": "DescriptionStyleModel",
     "state": {
      "_model_module": "@jupyter-widgets/controls",
      "_model_module_version": "1.5.0",
      "_model_name": "DescriptionStyleModel",
      "_view_count": null,
      "_view_module": "@jupyter-widgets/base",
      "_view_module_version": "1.2.0",
      "_view_name": "StyleView",
      "description_width": ""
     }
    },
    "9938a369a7bf4e60810b8bc68f478a08": {
     "model_module": "@jupyter-widgets/controls",
     "model_module_version": "1.5.0",
     "model_name": "ProgressStyleModel",
     "state": {
      "_model_module": "@jupyter-widgets/controls",
      "_model_module_version": "1.5.0",
      "_model_name": "ProgressStyleModel",
      "_view_count": null,
      "_view_module": "@jupyter-widgets/base",
      "_view_module_version": "1.2.0",
      "_view_name": "StyleView",
      "bar_color": null,
      "description_width": ""
     }
    },
    "9e4ab7a72f2d4b7799566ad954b51493": {
     "model_module": "@jupyter-widgets/controls",
     "model_module_version": "1.5.0",
     "model_name": "FloatProgressModel",
     "state": {
      "_dom_classes": [],
      "_model_module": "@jupyter-widgets/controls",
      "_model_module_version": "1.5.0",
      "_model_name": "FloatProgressModel",
      "_view_count": null,
      "_view_module": "@jupyter-widgets/controls",
      "_view_module_version": "1.5.0",
      "_view_name": "ProgressView",
      "bar_style": "success",
      "description": "",
      "description_tooltip": null,
      "layout": "IPY_MODEL_76435bea3ec0495e9f92530ac77c9905",
      "max": 1,
      "min": 0,
      "orientation": "horizontal",
      "style": "IPY_MODEL_9938a369a7bf4e60810b8bc68f478a08",
      "value": 1
     }
    },
    "b4d141ac2c4a428db99726853c6c9c6f": {
     "model_module": "@jupyter-widgets/base",
     "model_module_version": "1.2.0",
     "model_name": "LayoutModel",
     "state": {
      "_model_module": "@jupyter-widgets/base",
      "_model_module_version": "1.2.0",
      "_model_name": "LayoutModel",
      "_view_count": null,
      "_view_module": "@jupyter-widgets/base",
      "_view_module_version": "1.2.0",
      "_view_name": "LayoutView",
      "align_content": null,
      "align_items": null,
      "align_self": null,
      "border": null,
      "bottom": null,
      "display": null,
      "flex": null,
      "flex_flow": null,
      "grid_area": null,
      "grid_auto_columns": null,
      "grid_auto_flow": null,
      "grid_auto_rows": null,
      "grid_column": null,
      "grid_gap": null,
      "grid_row": null,
      "grid_template_areas": null,
      "grid_template_columns": null,
      "grid_template_rows": null,
      "height": null,
      "justify_content": null,
      "justify_items": null,
      "left": null,
      "margin": null,
      "max_height": null,
      "max_width": null,
      "min_height": null,
      "min_width": null,
      "object_fit": null,
      "object_position": null,
      "order": null,
      "overflow": null,
      "overflow_x": null,
      "overflow_y": null,
      "padding": null,
      "right": null,
      "top": null,
      "visibility": null,
      "width": null
     }
    },
    "c5a4d1d62b7a44f5b3d853673019103e": {
     "model_module": "@jupyter-widgets/controls",
     "model_module_version": "1.5.0",
     "model_name": "DescriptionStyleModel",
     "state": {
      "_model_module": "@jupyter-widgets/controls",
      "_model_module_version": "1.5.0",
      "_model_name": "DescriptionStyleModel",
      "_view_count": null,
      "_view_module": "@jupyter-widgets/base",
      "_view_module_version": "1.2.0",
      "_view_name": "StyleView",
      "description_width": ""
     }
    },
    "ddaa9679903343669e6a5799036c98f7": {
     "model_module": "@jupyter-widgets/base",
     "model_module_version": "1.2.0",
     "model_name": "LayoutModel",
     "state": {
      "_model_module": "@jupyter-widgets/base",
      "_model_module_version": "1.2.0",
      "_model_name": "LayoutModel",
      "_view_count": null,
      "_view_module": "@jupyter-widgets/base",
      "_view_module_version": "1.2.0",
      "_view_name": "LayoutView",
      "align_content": null,
      "align_items": null,
      "align_self": null,
      "border": null,
      "bottom": null,
      "display": null,
      "flex": null,
      "flex_flow": null,
      "grid_area": null,
      "grid_auto_columns": null,
      "grid_auto_flow": null,
      "grid_auto_rows": null,
      "grid_column": null,
      "grid_gap": null,
      "grid_row": null,
      "grid_template_areas": null,
      "grid_template_columns": null,
      "grid_template_rows": null,
      "height": null,
      "justify_content": null,
      "justify_items": null,
      "left": null,
      "margin": null,
      "max_height": null,
      "max_width": null,
      "min_height": null,
      "min_width": null,
      "object_fit": null,
      "object_position": null,
      "order": null,
      "overflow": null,
      "overflow_x": null,
      "overflow_y": null,
      "padding": null,
      "right": null,
      "top": null,
      "visibility": null,
      "width": null
     }
    },
    "f0ca2cd438c7407ab6f3a813067cb157": {
     "model_module": "@jupyter-widgets/base",
     "model_module_version": "1.2.0",
     "model_name": "LayoutModel",
     "state": {
      "_model_module": "@jupyter-widgets/base",
      "_model_module_version": "1.2.0",
      "_model_name": "LayoutModel",
      "_view_count": null,
      "_view_module": "@jupyter-widgets/base",
      "_view_module_version": "1.2.0",
      "_view_name": "LayoutView",
      "align_content": null,
      "align_items": null,
      "align_self": null,
      "border": null,
      "bottom": null,
      "display": "inline-flex",
      "flex": null,
      "flex_flow": "row wrap",
      "grid_area": null,
      "grid_auto_columns": null,
      "grid_auto_flow": null,
      "grid_auto_rows": null,
      "grid_column": null,
      "grid_gap": null,
      "grid_row": null,
      "grid_template_areas": null,
      "grid_template_columns": null,
      "grid_template_rows": null,
      "height": null,
      "justify_content": null,
      "justify_items": null,
      "left": null,
      "margin": null,
      "max_height": null,
      "max_width": null,
      "min_height": null,
      "min_width": null,
      "object_fit": null,
      "object_position": null,
      "order": null,
      "overflow": null,
      "overflow_x": null,
      "overflow_y": null,
      "padding": null,
      "right": null,
      "top": null,
      "visibility": null,
      "width": "100%"
     }
    }
   }
  }
 },
 "nbformat": 4,
 "nbformat_minor": 4
}
