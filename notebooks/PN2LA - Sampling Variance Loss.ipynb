{
 "cells": [
  {
   "cell_type": "code",
   "execution_count": 1,
   "id": "0196bcd5-43d9-4229-a45e-1bb6481bee84",
   "metadata": {},
   "outputs": [],
   "source": [
    "import sys\n",
    "\n",
    "MAIN_DICT = \"/gws/nopw/j04/ai4er/users/pn341/earthquake-predictability\"\n",
    "sys.path.append(MAIN_DICT)"
   ]
  },
  {
   "cell_type": "code",
   "execution_count": 2,
   "id": "9878eac3-2924-4c79-bf9f-637be08cb5a6",
   "metadata": {},
   "outputs": [],
   "source": [
    "import os\n",
    "import time\n",
    "import warnings\n",
    "\n",
    "import matplotlib.pyplot as plt\n",
    "import numpy as np\n",
    "import pandas as pd\n",
    "import seaborn as sns\n",
    "\n",
    "from utils.load import add_noise, load_data\n",
    "from utils.params import set_param\n",
    "\n",
    "warnings.filterwarnings(\"ignore\")\n",
    "\n",
    "sns.set_theme(style=\"ticks\")\n",
    "np.random.seed(42)"
   ]
  },
  {
   "cell_type": "code",
   "execution_count": 3,
   "id": "6da90935-0cb4-4087-8da8-d8512c4a5eb7",
   "metadata": {},
   "outputs": [],
   "source": [
    "exp = \"p4581\"\n",
    "params = set_param(exp)\n",
    "\n",
    "dirs = {\"main\": MAIN_DICT}\n",
    "dirs[\"data\"] = dirs[\"main\"] + \"/data/\" + params[\"dir_data\"]\n",
    "\n",
    "X, Y, t, dt, vl = load_data(exp, dirs, params)\n",
    "Y = Y[:, 0:2]"
   ]
  },
  {
   "cell_type": "code",
   "execution_count": 4,
   "id": "c31ccaaa-4e76-4e24-ba8c-ca6e09c04409",
   "metadata": {
    "scrolled": true
   },
   "outputs": [
    {
     "data": {
      "text/html": [
       "<div>\n",
       "<style scoped>\n",
       "    .dataframe tbody tr th:only-of-type {\n",
       "        vertical-align: middle;\n",
       "    }\n",
       "\n",
       "    .dataframe tbody tr th {\n",
       "        vertical-align: top;\n",
       "    }\n",
       "\n",
       "    .dataframe thead th {\n",
       "        text-align: right;\n",
       "    }\n",
       "</style>\n",
       "<table border=\"1\" class=\"dataframe\">\n",
       "  <thead>\n",
       "    <tr style=\"text-align: right;\">\n",
       "      <th></th>\n",
       "      <th>det_shear_stress</th>\n",
       "      <th>obs_shear_stress</th>\n",
       "      <th>obs_normal_stress</th>\n",
       "      <th>time</th>\n",
       "    </tr>\n",
       "  </thead>\n",
       "  <tbody>\n",
       "    <tr>\n",
       "      <th>0</th>\n",
       "      <td>0.002811</td>\n",
       "      <td>1.29911</td>\n",
       "      <td>2.99288</td>\n",
       "      <td>0.000</td>\n",
       "    </tr>\n",
       "    <tr>\n",
       "      <th>1</th>\n",
       "      <td>0.002731</td>\n",
       "      <td>1.29903</td>\n",
       "      <td>2.99008</td>\n",
       "      <td>0.001</td>\n",
       "    </tr>\n",
       "    <tr>\n",
       "      <th>2</th>\n",
       "      <td>0.002231</td>\n",
       "      <td>1.29853</td>\n",
       "      <td>2.98854</td>\n",
       "      <td>0.002</td>\n",
       "    </tr>\n",
       "    <tr>\n",
       "      <th>3</th>\n",
       "      <td>0.002411</td>\n",
       "      <td>1.29871</td>\n",
       "      <td>2.98849</td>\n",
       "      <td>0.003</td>\n",
       "    </tr>\n",
       "    <tr>\n",
       "      <th>4</th>\n",
       "      <td>0.002241</td>\n",
       "      <td>1.29854</td>\n",
       "      <td>2.99069</td>\n",
       "      <td>0.004</td>\n",
       "    </tr>\n",
       "  </tbody>\n",
       "</table>\n",
       "</div>"
      ],
      "text/plain": [
       "   det_shear_stress  obs_shear_stress  obs_normal_stress   time\n",
       "0          0.002811           1.29911            2.99288  0.000\n",
       "1          0.002731           1.29903            2.99008  0.001\n",
       "2          0.002231           1.29853            2.98854  0.002\n",
       "3          0.002411           1.29871            2.98849  0.003\n",
       "4          0.002241           1.29854            2.99069  0.004"
      ]
     },
     "execution_count": 4,
     "metadata": {},
     "output_type": "execute_result"
    }
   ],
   "source": [
    "df = pd.DataFrame(\n",
    "    np.hstack((X, Y, t.reshape(-1, 1))),\n",
    "    columns=[\n",
    "        \"det_shear_stress\",\n",
    "        \"obs_shear_stress\",\n",
    "        \"obs_normal_stress\",\n",
    "        \"time\",\n",
    "    ],\n",
    ")\n",
    "df.head()"
   ]
  },
  {
   "cell_type": "code",
   "execution_count": 5,
   "id": "a1498e70-03e9-4fe9-9e34-d6fbd6adea16",
   "metadata": {},
   "outputs": [
    {
     "data": {
      "text/html": [
       "<div>\n",
       "<style scoped>\n",
       "    .dataframe tbody tr th:only-of-type {\n",
       "        vertical-align: middle;\n",
       "    }\n",
       "\n",
       "    .dataframe tbody tr th {\n",
       "        vertical-align: top;\n",
       "    }\n",
       "\n",
       "    .dataframe thead th {\n",
       "        text-align: right;\n",
       "    }\n",
       "</style>\n",
       "<table border=\"1\" class=\"dataframe\">\n",
       "  <thead>\n",
       "    <tr style=\"text-align: right;\">\n",
       "      <th></th>\n",
       "      <th>det_shear_stress</th>\n",
       "      <th>obs_shear_stress</th>\n",
       "      <th>obs_normal_stress</th>\n",
       "      <th>time</th>\n",
       "    </tr>\n",
       "  </thead>\n",
       "  <tbody>\n",
       "    <tr>\n",
       "      <th>1000</th>\n",
       "      <td>0.010441</td>\n",
       "      <td>1.306805</td>\n",
       "      <td>2.989703</td>\n",
       "      <td>0.500503</td>\n",
       "    </tr>\n",
       "    <tr>\n",
       "      <th>2000</th>\n",
       "      <td>0.023812</td>\n",
       "      <td>1.320308</td>\n",
       "      <td>2.989567</td>\n",
       "      <td>1.500508</td>\n",
       "    </tr>\n",
       "    <tr>\n",
       "      <th>3000</th>\n",
       "      <td>0.033829</td>\n",
       "      <td>1.330455</td>\n",
       "      <td>2.989649</td>\n",
       "      <td>2.500513</td>\n",
       "    </tr>\n",
       "    <tr>\n",
       "      <th>4000</th>\n",
       "      <td>0.040971</td>\n",
       "      <td>1.337728</td>\n",
       "      <td>2.989704</td>\n",
       "      <td>3.500518</td>\n",
       "    </tr>\n",
       "    <tr>\n",
       "      <th>5000</th>\n",
       "      <td>0.045985</td>\n",
       "      <td>1.342874</td>\n",
       "      <td>2.989764</td>\n",
       "      <td>4.500523</td>\n",
       "    </tr>\n",
       "  </tbody>\n",
       "</table>\n",
       "</div>"
      ],
      "text/plain": [
       "      det_shear_stress  obs_shear_stress  obs_normal_stress      time\n",
       "1000          0.010441          1.306805           2.989703  0.500503\n",
       "2000          0.023812          1.320308           2.989567  1.500508\n",
       "3000          0.033829          1.330455           2.989649  2.500513\n",
       "4000          0.040971          1.337728           2.989704  3.500518\n",
       "5000          0.045985          1.342874           2.989764  4.500523"
      ]
     },
     "execution_count": 5,
     "metadata": {},
     "output_type": "execute_result"
    }
   ],
   "source": [
    "sampled_df = df.rolling(window=int(1e3), step=int(1e3)).mean().dropna()\n",
    "sampled_df.head()"
   ]
  },
  {
   "cell_type": "code",
   "execution_count": 6,
   "id": "a9e692e6-39a3-4ab0-b7b6-8edb8e7481ac",
   "metadata": {},
   "outputs": [],
   "source": [
    "from scipy.stats import ttest_rel\n",
    "\n",
    "def calculate_variance_loss(original, downsampled):\n",
    "    return original.var() - downsampled.var()\n",
    "\n",
    "def test_statistical_significance(original, downsampled):\n",
    "    downsampled_aligned = downsampled.reindex(original.index, method='nearest')\n",
    "    t_stat, p_value = ttest_rel(original, downsampled_aligned)\n",
    "    return t_stat, p_value"
   ]
  },
  {
   "cell_type": "code",
   "execution_count": 7,
   "id": "2758a6cf-a3da-44db-a5c3-21340be314e7",
   "metadata": {},
   "outputs": [
    {
     "name": "stdout",
     "output_type": "stream",
     "text": [
      "[1] Variance Loss: 0.0014469620926355767\n",
      "[2] Statistical Significance (p-value): 0.4095960486436466\n",
      "[3] Null hypothesis (identical averages) CANNOT be rejected.\n"
     ]
    }
   ],
   "source": [
    "original_series = df['det_shear_stress']\n",
    "downsampled_series = sampled_df['det_shear_stress']\n",
    "\n",
    "variance_loss = calculate_variance_loss(original_series, downsampled_series)\n",
    "t_stat, p_value = test_statistical_significance(original_series, downsampled_series)\n",
    "\n",
    "print(f\"[1] Variance Loss: {variance_loss}\")\n",
    "print(f\"[2] Statistical Significance (p-value): {p_value}\")\n",
    "\n",
    "if p_value < 0.05:\n",
    "    print(f\"[3] Null hypothesis (identical averages) IS rejected.\")\n",
    "else:\n",
    "    print(f\"[3] Null hypothesis (identical averages) CANNOT be rejected.\")"
   ]
  },
  {
   "cell_type": "code",
   "execution_count": null,
   "id": "340a0a31-43bf-4b68-8bfa-86e9748fac66",
   "metadata": {},
   "outputs": [],
   "source": []
  }
 ],
 "metadata": {
  "kernelspec": {
   "display_name": "Python 3 (ipykernel)",
   "language": "python",
   "name": "python3"
  },
  "language_info": {
   "codemirror_mode": {
    "name": "ipython",
    "version": 3
   },
   "file_extension": ".py",
   "mimetype": "text/x-python",
   "name": "python",
   "nbconvert_exporter": "python",
   "pygments_lexer": "ipython3",
   "version": "3.11.6"
  }
 },
 "nbformat": 4,
 "nbformat_minor": 5
}
