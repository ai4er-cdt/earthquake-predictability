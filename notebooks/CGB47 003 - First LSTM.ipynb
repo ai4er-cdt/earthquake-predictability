{
 "cells": [
  {
   "cell_type": "markdown",
   "id": "bff22d22",
   "metadata": {},
   "source": [
    "# First LSTM Model\n",
    "Author: Camilla Billari <br> \n",
    "Date: 19/01/24\n",
    "\n",
    "Fitting my first LSTM to the Marone p4581 experiment."
   ]
  },
  {
   "cell_type": "code",
   "execution_count": 4,
   "id": "d680b4a8-f747-4ebc-9459-1c5f2d1ea356",
   "metadata": {},
   "outputs": [],
   "source": [
    "# Import relevant libraries\n",
    "import sys\n",
    "\n",
    "import matplotlib.pyplot as plt\n",
    "import numpy as np\n",
    "import pandas as pd\n",
    "import torch\n",
    "import tqdm\n",
    "\n",
    "# Change local path\n",
    "MAIN_DICT = \"/gws/nopw/j04/ai4er/users/pn341/earthquake-predictability\"\n",
    "sys.path.append(MAIN_DICT)\n",
    "\n",
    "# Import local modules - note: dependent on above path being set.\n",
    "from utils.dataset import SlowEarthquakeDataset"
   ]
  },
  {
   "cell_type": "code",
   "execution_count": 5,
   "id": "30c258dc",
   "metadata": {},
   "outputs": [
    {
     "name": "stdout",
     "output_type": "stream",
     "text": [
      "No GPU available.\n"
     ]
    }
   ],
   "source": [
    "# Check if CUDA (NVIDIA GPU acceleration) is available\n",
    "if torch.cuda.is_available():\n",
    "    dev, map_location = \"cuda\", None  # Use GPU\n",
    "    print(f\"Total GPUs available: {torch.cuda.device_count()}\")  # Display GPU count\n",
    "    !nvidia-smi  # Display GPU details using nvidia-smi\n",
    "else:\n",
    "    dev, map_location = \"cpu\", \"cpu\"  # Use CPU\n",
    "    print(\"No GPU available.\") \n",
    "\n",
    "# Set PyTorch device based on the chosen device (cuda or cpu)\n",
    "device = torch.device(dev)"
   ]
  },
  {
   "cell_type": "markdown",
   "id": "0110f9ed",
   "metadata": {},
   "source": [
    "## Load Data"
   ]
  },
  {
   "cell_type": "code",
   "execution_count": 6,
   "id": "66f3a44c",
   "metadata": {},
   "outputs": [],
   "source": [
    "# Directories paths\n",
    "GTC_DATA_DIR = \"/gws/nopw/j04/ai4er/users/pn341/earthquake-predictability/data/gtc_quakes_data\"\n",
    "LABQUAKES_DATA_DIR = f\"{GTC_DATA_DIR}/labquakes\"\n",
    "DATA_DIR = f\"{LABQUAKES_DATA_DIR}/Marone\"\n",
    "EXP = \"p4581\"\n",
    "\n",
    "# Open experiment in a dataframe\n",
    "EXP_FILE_PATH = f\"{DATA_DIR}/{EXP}/{EXP}.txt\""
   ]
  },
  {
   "cell_type": "code",
   "execution_count": 8,
   "id": "97a9f388-7c2f-4869-9e78-035c8daed0d9",
   "metadata": {},
   "outputs": [
    {
     "name": "stdout",
     "output_type": "stream",
     "text": [
      "N samples: 200010\n"
     ]
    },
    {
     "data": {
      "text/html": [
       "<div>\n",
       "<style scoped>\n",
       "    .dataframe tbody tr th:only-of-type {\n",
       "        vertical-align: middle;\n",
       "    }\n",
       "\n",
       "    .dataframe tbody tr th {\n",
       "        vertical-align: top;\n",
       "    }\n",
       "\n",
       "    .dataframe thead th {\n",
       "        text-align: right;\n",
       "    }\n",
       "</style>\n",
       "<table border=\"1\" class=\"dataframe\">\n",
       "  <thead>\n",
       "    <tr style=\"text-align: right;\">\n",
       "      <th></th>\n",
       "      <th>det_shear_stress</th>\n",
       "      <th>obs_shear_stress</th>\n",
       "      <th>obs_normal_stress</th>\n",
       "      <th>obs_ecdisp</th>\n",
       "      <th>obs_shear_strain</th>\n",
       "      <th>time</th>\n",
       "    </tr>\n",
       "  </thead>\n",
       "  <tbody>\n",
       "    <tr>\n",
       "      <th>0</th>\n",
       "      <td>0.002811</td>\n",
       "      <td>1.29911</td>\n",
       "      <td>2.99288</td>\n",
       "      <td>NaN</td>\n",
       "      <td>NaN</td>\n",
       "      <td>0.000</td>\n",
       "    </tr>\n",
       "    <tr>\n",
       "      <th>1</th>\n",
       "      <td>0.002731</td>\n",
       "      <td>1.29903</td>\n",
       "      <td>2.99008</td>\n",
       "      <td>NaN</td>\n",
       "      <td>NaN</td>\n",
       "      <td>0.001</td>\n",
       "    </tr>\n",
       "    <tr>\n",
       "      <th>2</th>\n",
       "      <td>0.002231</td>\n",
       "      <td>1.29853</td>\n",
       "      <td>2.98854</td>\n",
       "      <td>NaN</td>\n",
       "      <td>NaN</td>\n",
       "      <td>0.002</td>\n",
       "    </tr>\n",
       "    <tr>\n",
       "      <th>3</th>\n",
       "      <td>0.002411</td>\n",
       "      <td>1.29871</td>\n",
       "      <td>2.98849</td>\n",
       "      <td>NaN</td>\n",
       "      <td>NaN</td>\n",
       "      <td>0.003</td>\n",
       "    </tr>\n",
       "    <tr>\n",
       "      <th>4</th>\n",
       "      <td>0.002241</td>\n",
       "      <td>1.29854</td>\n",
       "      <td>2.99069</td>\n",
       "      <td>NaN</td>\n",
       "      <td>NaN</td>\n",
       "      <td>0.004</td>\n",
       "    </tr>\n",
       "  </tbody>\n",
       "</table>\n",
       "</div>"
      ],
      "text/plain": [
       "   det_shear_stress  obs_shear_stress  obs_normal_stress  obs_ecdisp  \\\n",
       "0          0.002811           1.29911            2.99288         NaN   \n",
       "1          0.002731           1.29903            2.99008         NaN   \n",
       "2          0.002231           1.29853            2.98854         NaN   \n",
       "3          0.002411           1.29871            2.98849         NaN   \n",
       "4          0.002241           1.29854            2.99069         NaN   \n",
       "\n",
       "   obs_shear_strain   time  \n",
       "0               NaN  0.000  \n",
       "1               NaN  0.001  \n",
       "2               NaN  0.002  \n",
       "3               NaN  0.003  \n",
       "4               NaN  0.004  "
      ]
     },
     "execution_count": 8,
     "metadata": {},
     "output_type": "execute_result"
    }
   ],
   "source": [
    "# Access experiment and output dataframe head using Pritt's data loaders (which utilises Adriano's loading + pre-processing)\n",
    "dataset = SlowEarthquakeDataset([EXP])\n",
    "dataset.load()\n",
    "\n",
    "# Extract optupts (X, Y, t)\n",
    "ds_exp = dataset[EXP]\n",
    "X, Y, t = ds_exp[\"X\"], ds_exp[\"Y\"], ds_exp[\"t\"]\n",
    "\n",
    "# Create dataframe from outputs\n",
    "df = pd.DataFrame(\n",
    "    np.hstack((X, Y, t.reshape(-1, 1))),\n",
    "    columns=[ds_exp[\"hdrs\"][\"X\"], *ds_exp[\"hdrs\"][\"Y\"], ds_exp[\"hdrs\"][\"t\"]],\n",
    ")\n",
    "\n",
    "print(\"N samples: {}\".format(len(df)))\n",
    "df.head()"
   ]
  },
  {
   "cell_type": "markdown",
   "id": "885dac8a",
   "metadata": {},
   "source": [
    "### Creating the datastet"
   ]
  },
  {
   "cell_type": "code",
   "execution_count": 9,
   "id": "c475fa8c",
   "metadata": {},
   "outputs": [],
   "source": [
    "# Extract time series data\n",
    "timeseries = np.array(df[\"det_shear_stress\"])\n",
    "\n",
    "# Define train-test split proportions\n",
    "train_size = int(len(timeseries) * 0.80)\n",
    "test_size = len(timeseries) - train_size\n",
    "\n",
    "# Perform train-test split\n",
    "train, test = timeseries[:train_size], timeseries[train_size:]"
   ]
  },
  {
   "cell_type": "code",
   "execution_count": 10,
   "id": "c0a81440",
   "metadata": {},
   "outputs": [],
   "source": [
    "def create_dataset(dataset, lookback, forecast):\n",
    "    \"\"\"Transform a time series into a prediction dataset\n",
    "\n",
    "    Args:\n",
    "        dataset: Numpy array of time series (first dimension is the time steps).\n",
    "        lookback: Size of the window for prediction.\n",
    "        forecast: Number of time steps to predict into the future.\n",
    "    Return:\n",
    "        X_tensor: Pytorch tensor of the X windowed features\n",
    "        y_tensor: Pytorch tensor of the y windowed targets\n",
    "    \"\"\"\n",
    "    X, y = [], []\n",
    "\n",
    "    # Create input features (X) and corresponding targets (y) for prediction\n",
    "    for i in range(len(dataset) - lookback - forecast + 1):\n",
    "        feature = dataset[i : i + lookback]\n",
    "        target = dataset[i + lookback : i + lookback + forecast]\n",
    "        X.append(feature)\n",
    "        y.append(target)\n",
    "\n",
    "    # Convert the lists to PyTorch tensors - note list->arrays->tensors is faster than list->tensors\n",
    "    return torch.from_numpy(np.array(X, dtype=np.float32)), torch.from_numpy(\n",
    "        np.array(y, dtype=np.float32)\n",
    "    )"
   ]
  },
  {
   "cell_type": "code",
   "execution_count": 11,
   "id": "e3a560bd",
   "metadata": {},
   "outputs": [
    {
     "name": "stdout",
     "output_type": "stream",
     "text": [
      "Training data shapes: torch.Size([159998, 10]), torch.Size([159998, 1])\n",
      "Testing data shapes: torch.Size([39992, 10]), torch.Size([39992, 1])\n"
     ]
    }
   ],
   "source": [
    "# Define lookback and forecast values\n",
    "lookback, forecast = 10, 1\n",
    "\n",
    "# Create training and testing dataset\n",
    "X_train, y_train = create_dataset(train, lookback, forecast)\n",
    "X_test, y_test = create_dataset(test, lookback, forecast)\n",
    "\n",
    "# Display shapes of the created datasets\n",
    "print(f\"Training data shapes: {X_train.shape}, {y_train.shape}\")\n",
    "print(f\"Testing data shapes: {X_test.shape}, {y_test.shape}\")"
   ]
  },
  {
   "cell_type": "code",
   "execution_count": 16,
   "id": "313eb0ed",
   "metadata": {},
   "outputs": [
    {
     "data": {
      "text/plain": [
       "[<matplotlib.lines.Line2D at 0x7f8b4044f190>]"
      ]
     },
     "execution_count": 16,
     "metadata": {},
     "output_type": "execute_result"
    },
    {
     "data": {
      "image/png": "[encoded data removed]",
      "text/plain": [
       "<Figure size 640x480 with 1 Axes>"
      ]
     },
     "metadata": {},
     "output_type": "display_data"
    }
   ],
   "source": [
    "# Plot 3rd X_test window\n",
    "plt.plot(X_test[:, 2])"
   ]
  },
  {
   "cell_type": "markdown",
   "id": "352e4dda",
   "metadata": {},
   "source": [
    "## Modelling"
   ]
  },
  {
   "cell_type": "code",
   "execution_count": 17,
   "id": "6d140c4d",
   "metadata": {},
   "outputs": [],
   "source": [
    "import torch.nn as nn\n",
    "\n",
    "# Define the number of input variates and hidden size\n",
    "n_variates = 1\n",
    "hidden_size = 50\n",
    "\n",
    "class AirModel(nn.Module):\n",
    "    \"\"\" Subclass of nn.Module \"\"\"\n",
    "    def __init__(self):\n",
    "        super().__init__()\n",
    "\n",
    "        # LSTM layer with specified input size, hidden size, and batch_first\n",
    "        self.lstm = nn.LSTM(\n",
    "            input_size=n_variates,\n",
    "            hidden_size=hidden_size,\n",
    "            num_layers=1,\n",
    "            batch_first=True\n",
    "        )\n",
    "\n",
    "        # Linear layer mapping the LSTM output to the forecasted values\n",
    "        self.linear = nn.Linear(hidden_size, forecast)\n",
    "\n",
    "    def forward(self, x):\n",
    "        \"\"\" Forward pass through the LSTM layer. \"\"\"\n",
    "        x, _ = self.lstm(x)\n",
    "        x = x[:, -1, :] # extract the last time step output from the LSTM output\n",
    "        x = self.linear(x) # linear layer for the final output (forecasted values)\n",
    "        return x"
   ]
  },
  {
   "cell_type": "markdown",
   "id": "a05ffd81",
   "metadata": {},
   "source": [
    "### Training"
   ]
  },
  {
   "cell_type": "code",
   "execution_count": 18,
   "id": "0f6b98da",
   "metadata": {},
   "outputs": [],
   "source": [
    "# Move training and testing data to the specified device (cuda or cpu)\n",
    "X_train = X_train.to(device)\n",
    "y_train = y_train.to(device)\n",
    "X_test = X_test.to(device)\n",
    "y_test = y_test.to(device)"
   ]
  },
  {
   "cell_type": "code",
   "execution_count": null,
   "id": "3e266699",
   "metadata": {},
   "outputs": [],
   "source": [
    "import torch.optim as optim\n",
    "import torch.utils.data as data\n",
    "\n",
    "# Instantiate the AirModel and move it to the specified device\n",
    "model = AirModel().to(device)\n",
    "\n",
    "# Define Adam optimizer and Mean Squared Error (MSE) loss function\n",
    "optimizer = optim.Adam(model.parameters())\n",
    "loss_fn = nn.MSELoss()\n",
    "\n",
    "# Create a DataLoader for training batches\n",
    "loader = data.DataLoader(\n",
    "    data.TensorDataset(X_train, y_train), shuffle=True, batch_size=32\n",
    ")\n",
    "\n",
    "# Set the number of training epochs\n",
    "n_epochs = 200\n",
    "pbar = tqdm.tqdm(range(n_epochs))\n",
    "\n",
    "# Training loop\n",
    "for epoch in pbar:\n",
    "    model.train()\n",
    "\n",
    "    # Iterate through batches in the DataLoader\n",
    "    for X_batch, y_batch in loader:\n",
    "        # print(\"X_batch: {}, y_batch: {}\".format(X_batch.shape, y_batch.shape))\n",
    "        # print(\"y_batch: {}\".format(y_batch.shape))\n",
    "        y_pred = model(X_batch.unsqueeze(-1)) # reshape input for univariate (add a dimension)\n",
    "        # print(\"y_pred: {}\".format(y_pred.shape))\n",
    "        loss = loss_fn(y_pred, y_batch)\n",
    "\n",
    "        # Backward pass and optimization step\n",
    "        optimizer.zero_grad()\n",
    "        loss.backward()\n",
    "        optimizer.step()\n",
    "\n",
    "    # Validation every 100 epochs\n",
    "    if epoch % 100 != 0:\n",
    "        continue\n",
    "\n",
    "    model.eval()\n",
    "\n",
    "    with torch.no_grad():\n",
    "        # Evaluate model on training data\n",
    "        y_pred = model(X_train.unsqueeze(-1))\n",
    "        train_rmse = np.sqrt(loss_fn(y_pred, y_train))\n",
    "        # Evaluate model on testing data\n",
    "        y_pred = model(X_test.unsqueeze(-1))\n",
    "        test_rmse = np.sqrt(loss_fn(y_pred, y_test))\n",
    "\n",
    "    # Update progress bar with training and testing RMSE\n",
    "    pbar.set_description(\n",
    "            f\"Epoch [{epoch+1}/{n_epochs}], Train RMSE: {train_rmse:.4f}, Test RMSE: {test_rmse:.4f}\"\n",
    "        )"
   ]
  },
  {
   "cell_type": "markdown",
   "id": "531eb72b",
   "metadata": {},
   "source": [
    "## Results"
   ]
  },
  {
   "cell_type": "code",
   "execution_count": null,
   "id": "45962885",
   "metadata": {},
   "outputs": [],
   "source": [
    "with torch.no_grad():\n",
    "    # Shift train predictions for plotting\n",
    "    train_plot = np.ones_like(timeseries) * np.nan\n",
    "\n",
    "    # Get predictions for training data and fill the plot array\n",
    "    y_pred = model(X_train)\n",
    "    y_pred = y_pred[:, -1, :]\n",
    "    train_plot[lookback:train_size] = model(X_train)[:, -1, :]\n",
    "\n",
    "    # Shift test predictions for plotting\n",
    "    test_plot = np.ones_like(timeseries) * np.nan\n",
    "\n",
    "    # Get predictions for testing data and fill the plot array\n",
    "    test_plot[train_size+lookback:len(timeseries)] = model(X_test)[:, -1, :]\n",
    "\n",
    "# Plotting\n",
    "plt.plot(timeseries, c=\"b\")\n",
    "plt.plot(train_plot, c=\"r\")\n",
    "plt.plot(test_plot, c=\"g\")\n",
    "plt.show()"
   ]
  }
 ],
 "metadata": {
  "kernelspec": {
   "display_name": "Python 3 (ipykernel)",
   "language": "python",
   "name": "python3"
  },
  "language_info": {
   "codemirror_mode": {
    "name": "ipython",
    "version": 3
   },
   "file_extension": ".py",
   "mimetype": "text/x-python",
   "name": "python",
   "nbconvert_exporter": "python",
   "pygments_lexer": "ipython3",
   "version": "3.11.5"
  }
 },
 "nbformat": 4,
 "nbformat_minor": 5
}
