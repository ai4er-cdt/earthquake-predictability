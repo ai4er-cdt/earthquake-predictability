{
 "cells": [
  {
   "cell_type": "code",
   "execution_count": null,
   "metadata": {},
   "outputs": [],
   "source": [
    "# Set Directories\n",
    "\n",
    "MAIN_DIR = \"/gws/nopw/j04/ai4er/users/trr26/earthquake-predictability\"\n",
    "DATA_DIR = \"/gws/nopw/j04/ai4er/users/trr26/earthquake-predictability/data/gtc_quakes_data\"\n",
    "p4581_FILE_PATH = f\"{DATA_DIR}/labquakes/Marone/p4581/p4581.txt\"\n",
    "\n",
    "# Imports\n",
    "\n",
    "import numpy as np\n",
    "import pandas as pd\n",
    "import matplotlib.pyplot as plt\n",
    "import seaborn as sns\n",
    "from sklearn.metrics import r2_score\n",
    "from sklearn.metrics import mean_squared_error\n",
    "from sklearn import preprocessing\n",
    "from math import sqrt\n",
    "from scipy.io import loadmat\n",
    "import scipy\n",
    "import ipywidgets as widgets\n",
    "from IPython.display import display\n",
    "\n",
    "import torch\n",
    "import torch.nn as nn\n",
    "from torch.utils.data import TensorDataset, DataLoader \n",
    "from tqdm.auto import tqdm\n",
    "import random\n",
    "import os\n",
    "\n",
    "import sys\n",
    "sys.path.append(MAIN_DIR)\n",
    "import utils"
   ]
  },
  {
   "cell_type": "code",
   "execution_count": null,
   "metadata": {},
   "outputs": [],
   "source": [
    "# Check CUDA Availability\n",
    "\n",
    "if torch.cuda.is_available():  \n",
    "    dev = \"cuda\" \n",
    "    map_location=None\n",
    "    print(f\"Total number of GPUs available: {torch.cuda.device_count()}\")\n",
    "    !nvidia-smi\n",
    "else:  \n",
    "    dev = \"cpu\"  \n",
    "    map_location='cpu'\n",
    "    print(\"No GPU available.\")\n",
    "device = torch.device(dev)"
   ]
  },
  {
   "cell_type": "code",
   "execution_count": null,
   "metadata": {},
   "outputs": [],
   "source": [
    "with open(p4581_FILE_PATH, \"r\") as file:\n",
    "    df = pd.read_csv(file, delim_whitespace=True, skiprows=4)\n",
    "\n",
    "df.columns = [\n",
    "    \"id\",\n",
    "    \"lp_disp\",\n",
    "    \"shr_stress\",\n",
    "    \"nor_disp\",\n",
    "    \"nor_stress\",\n",
    "    \"time\",\n",
    "    \"sync\",\n",
    "    \"samp_freq\",\n",
    "]\n",
    "\n",
    "df = df.drop([\"id\"], axis=1)\n",
    "df = df[['time'] + [col for col in df.columns if col != 'time']]\n",
    "\n",
    "df.head()"
   ]
  },
  {
   "cell_type": "code",
   "execution_count": null,
   "metadata": {},
   "outputs": [],
   "source": [
    "# Find the indices where target_nor_stress changes\n",
    "\n",
    "window_size = 100\n",
    "df['smoothed_nor_stress'] = df['nor_stress'].rolling(window_size, center=True).mean()\n",
    "df['target_nor_stress'] = df['smoothed_nor_stress'].fillna(0).round().astype(int)\n",
    "segment_indices = np.where(df['target_nor_stress'].diff() != 0)[0]\n",
    "\n",
    "# Segment the dataframe based on the indices\n",
    "segments = np.split(df, segment_indices)"
   ]
  },
  {
   "cell_type": "code",
   "execution_count": null,
   "metadata": {},
   "outputs": [],
   "source": [
    "def detrend_first_order_poly(x, y):\n",
    "    p = np.polyfit(x, y, deg=1)\n",
    "    y_det = y - (p[0] * x + p[1])\n",
    "    return y_det"
   ]
  },
  {
   "cell_type": "code",
   "execution_count": null,
   "metadata": {},
   "outputs": [],
   "source": []
  }
 ],
 "metadata": {
  "language_info": {
   "name": "python"
  }
 },
 "nbformat": 4,
 "nbformat_minor": 2
}
