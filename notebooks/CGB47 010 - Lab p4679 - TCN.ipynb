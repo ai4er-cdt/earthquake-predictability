{
 "cells": [
  {
   "cell_type": "markdown",
   "id": "bff22d22",
   "metadata": {},
   "source": [
    "# TCN Model on Lab p4679\n",
    "Author: Camilla Billari <br> \n",
    "Date: 07/02/24\n",
    "\n",
    "Fitting a TCN to the lab p4679 dataset."
   ]
  },
  {
   "cell_type": "code",
   "execution_count": null,
   "id": "d680b4a8-f747-4ebc-9459-1c5f2d1ea356",
   "metadata": {},
   "outputs": [],
   "source": [
    "# Import relevant libraries\n",
    "import matplotlib.pyplot as plt\n",
    "\n",
    "# Import local modules - note: dependent on above path being set.\n",
    "from utils.dataset import SlowEarthquakeDataset\n",
    "from utils.nn_io import load_model, save_model\n",
    "from utils.general_functions import set_seed, set_torch_device\n",
    "from utils.data_preprocessing import moving_average_causal_filter, compare_feature_statistics, create_dataset, split_train_test_forecast_windows, normalise_dataset\n",
    "from utils.plotting import plot_original_vs_processed_data, plot_example_sample, plot_metric_results, plot_all_data_results\n",
    "from utils.nn_train import train_model\n",
    "from scripts.tcn_oneshot_multistep import MultiStepTCN"
   ]
  },
  {
   "cell_type": "code",
   "execution_count": null,
   "id": "30c258dc",
   "metadata": {},
   "outputs": [],
   "source": [
    "# Set random seed\n",
    "SEED = 17 # random seed for the dataset and model\n",
    "set_seed(SEED)\n",
    "\n",
    "# Set torch device\n",
    "device = set_torch_device()"
   ]
  },
  {
   "cell_type": "markdown",
   "id": "0110f9ed",
   "metadata": {},
   "source": [
    "## Load Data"
   ]
  },
  {
   "cell_type": "code",
   "execution_count": null,
   "id": "83424682",
   "metadata": {},
   "outputs": [],
   "source": [
    "EXP = \"p4679\" # select Marone p4679 experiment\n",
    "\n",
    "# Load dataset and convert to dataframe\n",
    "dataset = SlowEarthquakeDataset([EXP])\n",
    "df = SlowEarthquakeDataset.convert_to_df(dataset, EXP)\n",
    "\n",
    "df.head()"
   ]
  },
  {
   "cell_type": "code",
   "execution_count": null,
   "id": "fe3863eb",
   "metadata": {},
   "outputs": [],
   "source": [
    "# Select segment average and scale down by 10^8\n",
    "shear_stress_df = df[\"obs_shear_stress\"]\n",
    "\n",
    "shear_stress_df.shape"
   ]
  },
  {
   "cell_type": "markdown",
   "id": "ad150b4b",
   "metadata": {},
   "source": [
    "## Data Pre-processing"
   ]
  },
  {
   "cell_type": "markdown",
   "id": "4b87db40",
   "metadata": {},
   "source": [
    "### Denoising"
   ]
  },
  {
   "cell_type": "code",
   "execution_count": null,
   "id": "04741662",
   "metadata": {},
   "outputs": [],
   "source": [
    "# Data smoothing\n",
    "SMOOTHING_WINDOW = 1 # moving average window size\n",
    "DOWNSAMPLING_FACTOR = 50\n",
    "\n",
    "# Smooth the data\n",
    "df_smoothed = moving_average_causal_filter(shear_stress_df, SMOOTHING_WINDOW, DOWNSAMPLING_FACTOR)\n",
    "\n",
    "df_smoothed.shape"
   ]
  },
  {
   "cell_type": "code",
   "execution_count": null,
   "id": "84447a6b",
   "metadata": {},
   "outputs": [],
   "source": [
    "# Check if smoothed results are statistically significantly different\n",
    "results = compare_feature_statistics(shear_stress_df, df_smoothed)\n",
    "print(results)"
   ]
  },
  {
   "cell_type": "code",
   "execution_count": null,
   "id": "dc1f05b1",
   "metadata": {},
   "outputs": [],
   "source": [
    "plot_original_vs_processed_data(shear_stress_df, df_smoothed, \"line\")"
   ]
  },
  {
   "cell_type": "code",
   "execution_count": null,
   "id": "506c724e",
   "metadata": {},
   "outputs": [],
   "source": [
    "plot_original_vs_processed_data(shear_stress_df, df_smoothed, \"scatter\")"
   ]
  },
  {
   "cell_type": "markdown",
   "id": "885dac8a",
   "metadata": {},
   "source": [
    "## Creating the datastet"
   ]
  },
  {
   "cell_type": "code",
   "execution_count": null,
   "id": "5ff93929",
   "metadata": {},
   "outputs": [],
   "source": [
    "# Dataset parameters\n",
    "LOOKBACK, FORECAST = 90, 30 # lookback and forecast values\n",
    "N_FORECAST_WINDOWS = 60 # n forecasted windows in test set\n",
    "\n",
    "# Pre-process the data into windows\n",
    "X, y = create_dataset(df_smoothed, LOOKBACK, FORECAST)\n",
    "\n",
    "print(f\"X and y shapes: {X.shape}, {y.shape}\")"
   ]
  },
  {
   "cell_type": "code",
   "execution_count": null,
   "id": "0f3a22ff",
   "metadata": {},
   "outputs": [],
   "source": [
    "# Split into train and test sets and normalise it\n",
    "X_train, y_train, X_test, y_test = split_train_test_forecast_windows(X, y, FORECAST, N_FORECAST_WINDOWS)\n",
    "\n",
    "# Display shapes of the created datasets\n",
    "print(f\"Training data shapes: {X_train.shape}, {y_train.shape}\")\n",
    "print(f\"Testing data shapes: {X_test.shape}, {y_test.shape}\")"
   ]
  },
  {
   "cell_type": "markdown",
   "id": "8450db00",
   "metadata": {},
   "source": [
    "### Normalising with scaler based on the training set"
   ]
  },
  {
   "cell_type": "code",
   "execution_count": null,
   "id": "4ad9e77c",
   "metadata": {},
   "outputs": [],
   "source": [
    "# Normalise the dataset and save all sets into data_dict; keep scalers for later.\n",
    "data_dict, scaler_X, scaler_y = normalise_dataset(X_train, y_train, X_test, y_test)\n",
    "\n",
    "print(data_dict.keys())"
   ]
  },
  {
   "cell_type": "code",
   "execution_count": null,
   "id": "313eb0ed",
   "metadata": {},
   "outputs": [],
   "source": [
    "# Plot 3rd X_test window\n",
    "plt.plot(data_dict[\"X_test_sc\"][2, :])"
   ]
  },
  {
   "cell_type": "code",
   "execution_count": null,
   "id": "b0ddc63e",
   "metadata": {},
   "outputs": [],
   "source": [
    "plot_example_sample(data_dict[\"X_test_sc\"], data_dict[\"y_test_sc\"], 10, LOOKBACK, FORECAST)"
   ]
  },
  {
   "cell_type": "markdown",
   "id": "352e4dda",
   "metadata": {},
   "source": [
    "## Modelling"
   ]
  },
  {
   "cell_type": "code",
   "execution_count": null,
   "id": "269abfa6",
   "metadata": {},
   "outputs": [],
   "source": [
    "# For TCN config\n",
    "N_VARIATES = 1\n",
    "N_CHANNELS = [64, 64, 64, 64]\n",
    "KERNEL_SIZE = 3\n",
    "OUTPUT_SIZE = FORECAST\n",
    "\n",
    "model = MultiStepTCN(N_VARIATES, N_CHANNELS, KERNEL_SIZE, OUTPUT_SIZE, device).to(device)"
   ]
  },
  {
   "cell_type": "markdown",
   "id": "a05ffd81",
   "metadata": {},
   "source": [
    "### Training"
   ]
  },
  {
   "cell_type": "code",
   "execution_count": null,
   "id": "cd3cabc8",
   "metadata": {},
   "outputs": [],
   "source": [
    "# For TCN training\n",
    "N_EPOCHS = 75\n",
    "results_dict = train_model(model, N_EPOCHS, data_dict, scaler_y, device)"
   ]
  },
  {
   "cell_type": "markdown",
   "id": "531eb72b",
   "metadata": {},
   "source": [
    "## Results"
   ]
  },
  {
   "cell_type": "code",
   "execution_count": null,
   "id": "68637e05",
   "metadata": {},
   "outputs": [],
   "source": [
    "# Plot RMSE\n",
    "plot_metric_results(N_EPOCHS, results_dict[\"train_rmse_list\"], results_dict[\"test_rmse_list\"], \"RMSE\")"
   ]
  },
  {
   "cell_type": "code",
   "execution_count": null,
   "id": "dee7e5d2",
   "metadata": {},
   "outputs": [],
   "source": [
    "# Plot R2\n",
    "plot_metric_results(N_EPOCHS, results_dict[\"train_r2_list\"], results_dict[\"test_r2_list\"], \"R$^2$\")"
   ]
  },
  {
   "cell_type": "code",
   "execution_count": null,
   "id": "705754fa",
   "metadata": {},
   "outputs": [],
   "source": [
    "# Plot predictions against true values\n",
    "TEST_START_IDX = len(df_smoothed) - len(y_test) - LOOKBACK\n",
    "TITLE = \"Original Time Series and Model Predictions of Segment 1 sum\"\n",
    "X_LABEL = \"Time (days)\"\n",
    "Y_LABEL = \"Displacement potency (?)\"\n",
    "ZOOM_MIN = 4000\n",
    "ZOOM_MAX = 4300\n",
    "ZOOM_WINDOW = [ZOOM_MIN, ZOOM_MAX]"
   ]
  },
  {
   "cell_type": "code",
   "execution_count": null,
   "id": "d09729bc",
   "metadata": {},
   "outputs": [],
   "source": [
    "plot_all_data_results(TEST_START_IDX, data_dict, results_dict, LOOKBACK, FORECAST, TITLE, X_LABEL, Y_LABEL, [])\n"
   ]
  },
  {
   "cell_type": "code",
   "execution_count": null,
   "id": "36f753e6",
   "metadata": {},
   "outputs": [],
   "source": [
    "plot_all_data_results(TEST_START_IDX, data_dict, results_dict, LOOKBACK, FORECAST, TITLE, X_LABEL, Y_LABEL, ZOOM_WINDOW)\n",
    "# LOOK AT BOKE"
   ]
  },
  {
   "cell_type": "code",
   "execution_count": null,
   "id": "13260956",
   "metadata": {},
   "outputs": [],
   "source": []
  }
 ],
 "metadata": {
  "kernelspec": {
   "display_name": "Python 3 (ipykernel)",
   "language": "python",
   "name": "python3"
  },
  "language_info": {
   "codemirror_mode": {
    "name": "ipython",
    "version": 3
   },
   "file_extension": ".py",
   "mimetype": "text/x-python",
   "name": "python",
   "nbconvert_exporter": "python",
   "pygments_lexer": "ipython3",
   "version": "3.11.5"
  }
 },
 "nbformat": 4,
 "nbformat_minor": 5
}
