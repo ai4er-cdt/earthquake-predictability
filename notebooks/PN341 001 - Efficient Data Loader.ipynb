{
 "cells": [
  {
   "cell_type": "code",
   "execution_count": 1,
   "id": "d680b4a8-f747-4ebc-9459-1c5f2d1ea356",
   "metadata": {},
   "outputs": [],
   "source": [
    "import sys\n",
    "\n",
    "MAIN_DICT = \"/gws/nopw/j04/ai4er/users/pn341/earthquake-predictability\"\n",
    "sys.path.append(MAIN_DICT)"
   ]
  },
  {
   "cell_type": "code",
   "execution_count": 2,
   "id": "e4bdd308-2169-430b-bbd8-93a5dad45352",
   "metadata": {},
   "outputs": [],
   "source": [
    "# import os\n",
    "# from utils.load import load_data\n",
    "# from utils.params import set_param\n",
    "# from concurrent.futures import ProcessPoolExecutor\n",
    "\n",
    "from utils.dataset import SlowEarthquakeDataset"
   ]
  },
  {
   "cell_type": "code",
   "execution_count": 3,
   "id": "b5574152-b0d3-4a8d-8a0a-013963dcf35c",
   "metadata": {},
   "outputs": [],
   "source": [
    "# EXPERIMENTS = [\n",
    "#     'b726',\n",
    "#     'b698',\n",
    "#     'i417',\n",
    "#     'p4679',\n",
    "#     'p4581',\n",
    "#     'cascadia',\n",
    "#     'sim_b726',\n",
    "#     'sim_b698',\n",
    "#     'sim_i417'\n",
    "# ]\n",
    "\n",
    "# CPU_COUNT = 4\n",
    "\n",
    "# class SlowEarthquakeDataset:\n",
    "#     def __init__(self, exp_list):\n",
    "#         self.exp_list = exp_list\n",
    "#         self.dataset = {}\n",
    "\n",
    "#     def _load_experiment(self, exp):\n",
    "#         if exp in self.dataset:\n",
    "#             return self.dataset[exp]\n",
    "\n",
    "#         if exp in EXPERIMENTS:\n",
    "#             params = set_param(exp)\n",
    "#             dirs = {\"main\": MAIN_DICT}\n",
    "#             dirs[\"data\"] = dirs[\"main\"] + \"/data/\" + params[\"dir_data\"]\n",
    "#             X, Y, t, dt, vl = load_data(exp, dirs, params)\n",
    "#             dataset = {\n",
    "#                 \"X\": X,\n",
    "#                 \"Y\": Y,\n",
    "#                 \"t\": t,\n",
    "#                 \"dt\": dt,\n",
    "#                 \"vl\": vl,\n",
    "#             }\n",
    "\n",
    "#             if params[\"data_type\"] == \"lab\":\n",
    "#                 dataset[\"hdrs\"] = {\n",
    "#                     \"X\": \"det_shear_stress\",\n",
    "#                     \"Y\": [\n",
    "#                         \"obs_shear_stress\",\n",
    "#                         \"obs_normal_stress\",\n",
    "#                         \"obs_ecdisp\",\n",
    "#                         \"obs_shear_strain\"\n",
    "#                     ],\n",
    "#                    \"t\": \"time\"\n",
    "#                 }\n",
    "#             elif params[\"data_type\"] == \"synthetic\":\n",
    "#                 dataset[\"hdrs\"] = {\n",
    "#                     \"X\": \"det_shear_stress\",\n",
    "#                     \"Y\": [\n",
    "#                         \"det_shear_stress\",\n",
    "#                         \"det_normal_stress\",\n",
    "#                     ],\n",
    "#                    \"t\": \"time\"\n",
    "#                 }\n",
    "#             else:\n",
    "#                 dataset[\"hdrs\"] = None\n",
    "#             self.dataset[exp] = dataset\n",
    "#             return dataset\n",
    "\n",
    "#         else:\n",
    "#             raise Exception(f\"{exp} not found\")\n",
    "\n",
    "#     def load(self):\n",
    "#         max_workers = min(len(self.exp_list), CPU_COUNT)\n",
    "#         with ProcessPoolExecutor(max_workers=max_workers) as executor:\n",
    "#             futures = [executor.submit(self._load_experiment, exp) for exp in self.exp_list]\n",
    "#             [future.result() for idx, future in enumerate(futures)]\n",
    "\n",
    "#     def __getitem__(self, key):\n",
    "#         if key not in self.dataset:\n",
    "#             self.dataset[key] = self._load_experiment(key)\n",
    "#         return self.dataset[key]"
   ]
  },
  {
   "cell_type": "code",
   "execution_count": 4,
   "id": "423576aa-b121-4b04-a1db-f10ca6d8c956",
   "metadata": {},
   "outputs": [
    {
     "name": "stdout",
     "output_type": "stream",
     "text": [
      "CPU times: user 14.3 ms, sys: 37.4 ms, total: 51.7 ms\n",
      "Wall time: 38.1 s\n"
     ]
    }
   ],
   "source": [
    "%%time\n",
    "\n",
    "# ---------------------------------------------------------\n",
    "# Loading multiple experiments (in parallel)\n",
    "# ---------------------------------------------------------\n",
    "\n",
    "exp_list = [\"p4581\", \"p4679\"]\n",
    "dataset = SlowEarthquakeDataset(exp_list)\n",
    "dataset.load()"
   ]
  },
  {
   "cell_type": "code",
   "execution_count": 5,
   "id": "bcb7d47a-10cb-4dc3-9b2b-9dc7bd85ca4b",
   "metadata": {},
   "outputs": [
    {
     "name": "stdout",
     "output_type": "stream",
     "text": [
      "CPU times: user 33.3 s, sys: 1.64 s, total: 34.9 s\n",
      "Wall time: 37.2 s\n"
     ]
    },
    {
     "data": {
      "text/plain": [
       "{'X': array([[ 0.0573047 ],\n",
       "        [ 0.05643727],\n",
       "        [ 0.05577429],\n",
       "        ...,\n",
       "        [-0.01304666],\n",
       "        [-0.0132123 ],\n",
       "        [-0.01281982]]),\n",
       " 'Y': array([[5.09152006e+00, 6.98673964e+00, 2.21071104e+04,            nan],\n",
       "        [5.09065249e+00, 6.98840965e+00, 2.21097823e+04,            nan],\n",
       "        [5.08998938e+00, 6.98629943e+00, 2.21037900e+04,            nan],\n",
       "        ...,\n",
       "        [4.98015047e+00, 6.98886084e+00, 2.56460429e+04,            nan],\n",
       "        [4.97998469e+00, 6.99063166e+00, 2.56398351e+04,            nan],\n",
       "        [4.98037703e+00, 6.98905449e+00, 2.56457722e+04,            nan]]),\n",
       " 't': array([0.00000e+00, 1.00000e-03, 2.00000e-03, ..., 3.01718e+02,\n",
       "        3.01719e+02, 3.01720e+02]),\n",
       " 'dt': 0.0010000000002037268,\n",
       " 'vl': 11.625041343077795,\n",
       " 'hdrs': {'X': 'det_shear_stress',\n",
       "  'Y': ['obs_shear_stress',\n",
       "   'obs_normal_stress',\n",
       "   'obs_ecdisp',\n",
       "   'obs_shear_strain'],\n",
       "  't': 'time'}}"
      ]
     },
     "execution_count": 5,
     "metadata": {},
     "output_type": "execute_result"
    }
   ],
   "source": [
    "%%time\n",
    "\n",
    "# ---------------------------------------------------------\n",
    "# Accessing a single experiment\n",
    "# ---------------------------------------------------------\n",
    "\n",
    "exp_list = [\"p4581\", \"p4679\"]\n",
    "dataset = SlowEarthquakeDataset(exp_list)\n",
    "dataset[\"p4679\"]"
   ]
  },
  {
   "cell_type": "code",
   "execution_count": 6,
   "id": "68a3520d-5d5a-480a-a85f-da272f7d0bc3",
   "metadata": {},
   "outputs": [
    {
     "name": "stdout",
     "output_type": "stream",
     "text": [
      "CPU times: user 5 µs, sys: 1e+03 ns, total: 6 µs\n",
      "Wall time: 8.82 µs\n"
     ]
    },
    {
     "data": {
      "text/plain": [
       "{'X': array([[ 0.0573047 ],\n",
       "        [ 0.05643727],\n",
       "        [ 0.05577429],\n",
       "        ...,\n",
       "        [-0.01304666],\n",
       "        [-0.0132123 ],\n",
       "        [-0.01281982]]),\n",
       " 'Y': array([[5.09152006e+00, 6.98673964e+00, 2.21071104e+04,            nan],\n",
       "        [5.09065249e+00, 6.98840965e+00, 2.21097823e+04,            nan],\n",
       "        [5.08998938e+00, 6.98629943e+00, 2.21037900e+04,            nan],\n",
       "        ...,\n",
       "        [4.98015047e+00, 6.98886084e+00, 2.56460429e+04,            nan],\n",
       "        [4.97998469e+00, 6.99063166e+00, 2.56398351e+04,            nan],\n",
       "        [4.98037703e+00, 6.98905449e+00, 2.56457722e+04,            nan]]),\n",
       " 't': array([0.00000e+00, 1.00000e-03, 2.00000e-03, ..., 3.01718e+02,\n",
       "        3.01719e+02, 3.01720e+02]),\n",
       " 'dt': 0.0010000000002037268,\n",
       " 'vl': 11.625041343077795,\n",
       " 'hdrs': {'X': 'det_shear_stress',\n",
       "  'Y': ['obs_shear_stress',\n",
       "   'obs_normal_stress',\n",
       "   'obs_ecdisp',\n",
       "   'obs_shear_strain'],\n",
       "  't': 'time'}}"
      ]
     },
     "execution_count": 6,
     "metadata": {},
     "output_type": "execute_result"
    }
   ],
   "source": [
    "%%time\n",
    "\n",
    "# ---------------------------------------------------------\n",
    "# Accessing a single experiment (second time)\n",
    "# ---------------------------------------------------------\n",
    "\n",
    "dataset[\"p4679\"]"
   ]
  },
  {
   "cell_type": "code",
   "execution_count": 7,
   "id": "97a9f388-7c2f-4869-9e78-035c8daed0d9",
   "metadata": {},
   "outputs": [
    {
     "data": {
      "text/html": [
       "<div>\n",
       "<style scoped>\n",
       "    .dataframe tbody tr th:only-of-type {\n",
       "        vertical-align: middle;\n",
       "    }\n",
       "\n",
       "    .dataframe tbody tr th {\n",
       "        vertical-align: top;\n",
       "    }\n",
       "\n",
       "    .dataframe thead th {\n",
       "        text-align: right;\n",
       "    }\n",
       "</style>\n",
       "<table border=\"1\" class=\"dataframe\">\n",
       "  <thead>\n",
       "    <tr style=\"text-align: right;\">\n",
       "      <th></th>\n",
       "      <th>det_shear_stress</th>\n",
       "      <th>det_shear_stress</th>\n",
       "      <th>det_normal_stress</th>\n",
       "      <th>time</th>\n",
       "    </tr>\n",
       "  </thead>\n",
       "  <tbody>\n",
       "    <tr>\n",
       "      <th>0</th>\n",
       "      <td>-0.345601</td>\n",
       "      <td>-0.345601</td>\n",
       "      <td>-0.232042</td>\n",
       "      <td>0.00</td>\n",
       "    </tr>\n",
       "    <tr>\n",
       "      <th>1</th>\n",
       "      <td>-0.344294</td>\n",
       "      <td>-0.344294</td>\n",
       "      <td>-0.231628</td>\n",
       "      <td>0.01</td>\n",
       "    </tr>\n",
       "    <tr>\n",
       "      <th>2</th>\n",
       "      <td>-0.342987</td>\n",
       "      <td>-0.342987</td>\n",
       "      <td>-0.231214</td>\n",
       "      <td>0.02</td>\n",
       "    </tr>\n",
       "    <tr>\n",
       "      <th>3</th>\n",
       "      <td>-0.341680</td>\n",
       "      <td>-0.341680</td>\n",
       "      <td>-0.230801</td>\n",
       "      <td>0.03</td>\n",
       "    </tr>\n",
       "    <tr>\n",
       "      <th>4</th>\n",
       "      <td>-0.340373</td>\n",
       "      <td>-0.340373</td>\n",
       "      <td>-0.230389</td>\n",
       "      <td>0.04</td>\n",
       "    </tr>\n",
       "  </tbody>\n",
       "</table>\n",
       "</div>"
      ],
      "text/plain": [
       "   det_shear_stress  det_shear_stress  det_normal_stress  time\n",
       "0         -0.345601         -0.345601          -0.232042  0.00\n",
       "1         -0.344294         -0.344294          -0.231628  0.01\n",
       "2         -0.342987         -0.342987          -0.231214  0.02\n",
       "3         -0.341680         -0.341680          -0.230801  0.03\n",
       "4         -0.340373         -0.340373          -0.230389  0.04"
      ]
     },
     "execution_count": 7,
     "metadata": {},
     "output_type": "execute_result"
    }
   ],
   "source": [
    "# ---------------------------------------------------------\n",
    "# Accessing a single experiment +\n",
    "# Creating a pandas dataframe for additional functionality\n",
    "# ---------------------------------------------------------\n",
    "\n",
    "import numpy as np\n",
    "import pandas as pd\n",
    "\n",
    "ds_exp = dataset[\"sim_b698\"]\n",
    "X, Y, t = ds_exp[\"X\"], ds_exp[\"Y\"], ds_exp[\"t\"]\n",
    "\n",
    "df = pd.DataFrame(\n",
    "    np.hstack((X, Y, t.reshape(-1, 1))),\n",
    "    columns=[ds_exp[\"hdrs\"][\"X\"], *ds_exp[\"hdrs\"][\"Y\"], ds_exp[\"hdrs\"][\"t\"]],\n",
    ")\n",
    "\n",
    "df.head()"
   ]
  },
  {
   "cell_type": "code",
   "execution_count": null,
   "id": "051876d9-8f4e-4f46-af99-3fe871ca72d6",
   "metadata": {},
   "outputs": [],
   "source": []
  }
 ],
 "metadata": {
  "kernelspec": {
   "display_name": "Python 3 (ipykernel)",
   "language": "python",
   "name": "python3"
  },
  "language_info": {
   "codemirror_mode": {
    "name": "ipython",
    "version": 3
   },
   "file_extension": ".py",
   "mimetype": "text/x-python",
   "name": "python",
   "nbconvert_exporter": "python",
   "pygments_lexer": "ipython3",
   "version": "3.11.6"
  }
 },
 "nbformat": 4,
 "nbformat_minor": 5
}
