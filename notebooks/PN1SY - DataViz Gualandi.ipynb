{
 "cells": [
  {
   "cell_type": "code",
   "execution_count": 1,
   "id": "d2ffc4e0-6b33-473e-b935-99dce1cb108b",
   "metadata": {},
   "outputs": [],
   "source": [
    "from glob import glob\n",
    "\n",
    "import matplotlib.pyplot as plt\n",
    "import pandas as pd\n",
    "import seaborn as sns"
   ]
  },
  {
   "cell_type": "code",
   "execution_count": 2,
   "id": "1ea37dbe-7ba4-46e9-99f1-96ab8f89f5e6",
   "metadata": {},
   "outputs": [],
   "source": [
    "sns.set_theme(style=\"ticks\")"
   ]
  },
  {
   "cell_type": "code",
   "execution_count": 3,
   "id": "d17558fc-5959-4aaf-bcea-dae1000946b4",
   "metadata": {},
   "outputs": [],
   "source": [
    "GTC_DATA_DIR = \"/gws/nopw/j04/ai4er/users/pn341/earthquake-predictability/data/gtc_quakes_data\"\n",
    "LABQUAKES_DATA_DIR = f\"{GTC_DATA_DIR}/synquakes\"\n",
    "GUALANDI_DATA_DIR = f\"{LABQUAKES_DATA_DIR}/Gualandietal2023\""
   ]
  },
  {
   "cell_type": "code",
   "execution_count": 4,
   "id": "c7f5599b-048d-4cac-b1b5-945481af80c9",
   "metadata": {},
   "outputs": [],
   "source": [
    "def read_file(file_path):\n",
    "    with open(file_path, \"r\") as file:\n",
    "        return file.readlines()\n",
    "\n",
    "def get_gualandi_labquake(folder_path):\n",
    "    gualandi_lq_files = glob(folder_path + \"/*\")\n",
    "    gualandi_lq_filedict = {}\n",
    "    data = {}\n",
    "    \n",
    "    for file in gualandi_lq_files:\n",
    "        key = file.split(\"/\")[-1].split(\".\")[0]\n",
    "        gualandi_lq_filedict[key] = file\n",
    "        if \"sol_\" not in key:\n",
    "            data[key] = float(read_file(gualandi_lq_filedict[key])[0][:-1])\n",
    "        if key == \"sol_t\":\n",
    "            data[key] = pd.DataFrame([float(x[:-1]) for x in read_file(gualandi_lq_filedict[\"sol_t\"])])\n",
    "        if key == \"sol_u\":\n",
    "            with open(gualandi_lq_filedict[\"sol_u\"], \"r\") as file:\n",
    "                data[key] = pd.read_csv(file, delimiter=\"\\t\", header=None)\n",
    "    \n",
    "    return data"
   ]
  },
  {
   "cell_type": "code",
   "execution_count": 5,
   "id": "6a95b9f3-81c1-4ade-83d5-69c35ef5448d",
   "metadata": {},
   "outputs": [],
   "source": [
    "i417_FOLDER_PATH = f\"{GUALANDI_DATA_DIR}/i417\"\n",
    "i417_data = get_gualandi_labquake(i417_FOLDER_PATH)"
   ]
  },
  {
   "cell_type": "code",
   "execution_count": 6,
   "id": "23dd13ed-712a-4d8f-ac49-50bf7689c6bd",
   "metadata": {},
   "outputs": [
    {
     "data": {
      "text/plain": [
       "{'L1': 3e-06,\n",
       " 'a': 0.01,\n",
       " 'p': 0.1777706598334401,\n",
       " 'sigman0': 24976000.0,\n",
       " 'sol_t':                   0\n",
       " 0          0.000000\n",
       " 1          0.033333\n",
       " 2          0.066667\n",
       " 3          0.100000\n",
       " 4          0.133333\n",
       " ...             ...\n",
       " 239996  7999.866667\n",
       " 239997  7999.900000\n",
       " 239998  7999.933333\n",
       " 239999  7999.966667\n",
       " 240000  8000.000000\n",
       " \n",
       " [240001 rows x 1 columns],\n",
       " 'sol_u':                0         1         2         3\n",
       " 0       0.050000  0.000000  0.000000  0.000000\n",
       " 1       0.050410 -0.000309 -0.000102 -0.000361\n",
       " 2       0.050819 -0.000618 -0.000203 -0.000721\n",
       " 3       0.051229 -0.000927 -0.000305 -0.001082\n",
       " 4       0.051643 -0.001240 -0.000407 -0.001443\n",
       " ...          ...       ...       ...       ...\n",
       " 239996 -2.417839 -2.025766 -1.980735 -0.504879\n",
       " 239997 -2.419601 -2.020367 -1.979734 -0.503633\n",
       " 239998 -2.421335 -2.014968 -1.978736 -0.502392\n",
       " 239999 -2.423049 -2.009567 -1.977739 -0.501152\n",
       " 240000 -2.424740 -2.004166 -1.976743 -0.499915\n",
       " \n",
       " [240001 rows x 4 columns],\n",
       " 'tau0': 15984640.0,\n",
       " 'v0': 1e-05}"
      ]
     },
     "execution_count": 6,
     "metadata": {},
     "output_type": "execute_result"
    }
   ],
   "source": [
    "i417_data"
   ]
  },
  {
   "cell_type": "code",
   "execution_count": 7,
   "id": "b747f9e5-192e-4ca8-9e73-ab4a7ddeee02",
   "metadata": {},
   "outputs": [
    {
     "data": {
      "text/html": [
       "<div>\n",
       "<style scoped>\n",
       "    .dataframe tbody tr th:only-of-type {\n",
       "        vertical-align: middle;\n",
       "    }\n",
       "\n",
       "    .dataframe tbody tr th {\n",
       "        vertical-align: top;\n",
       "    }\n",
       "\n",
       "    .dataframe thead th {\n",
       "        text-align: right;\n",
       "    }\n",
       "</style>\n",
       "<table border=\"1\" class=\"dataframe\">\n",
       "  <thead>\n",
       "    <tr style=\"text-align: right;\">\n",
       "      <th></th>\n",
       "      <th>0</th>\n",
       "      <th>1</th>\n",
       "      <th>2</th>\n",
       "      <th>3</th>\n",
       "    </tr>\n",
       "  </thead>\n",
       "  <tbody>\n",
       "    <tr>\n",
       "      <th>0</th>\n",
       "      <td>0.050000</td>\n",
       "      <td>0.000000</td>\n",
       "      <td>0.000000</td>\n",
       "      <td>0.000000</td>\n",
       "    </tr>\n",
       "    <tr>\n",
       "      <th>1</th>\n",
       "      <td>0.050410</td>\n",
       "      <td>-0.000309</td>\n",
       "      <td>-0.000102</td>\n",
       "      <td>-0.000361</td>\n",
       "    </tr>\n",
       "    <tr>\n",
       "      <th>2</th>\n",
       "      <td>0.050819</td>\n",
       "      <td>-0.000618</td>\n",
       "      <td>-0.000203</td>\n",
       "      <td>-0.000721</td>\n",
       "    </tr>\n",
       "    <tr>\n",
       "      <th>3</th>\n",
       "      <td>0.051229</td>\n",
       "      <td>-0.000927</td>\n",
       "      <td>-0.000305</td>\n",
       "      <td>-0.001082</td>\n",
       "    </tr>\n",
       "    <tr>\n",
       "      <th>4</th>\n",
       "      <td>0.051643</td>\n",
       "      <td>-0.001240</td>\n",
       "      <td>-0.000407</td>\n",
       "      <td>-0.001443</td>\n",
       "    </tr>\n",
       "    <tr>\n",
       "      <th>...</th>\n",
       "      <td>...</td>\n",
       "      <td>...</td>\n",
       "      <td>...</td>\n",
       "      <td>...</td>\n",
       "    </tr>\n",
       "    <tr>\n",
       "      <th>239996</th>\n",
       "      <td>-2.417839</td>\n",
       "      <td>-2.025766</td>\n",
       "      <td>-1.980735</td>\n",
       "      <td>-0.504879</td>\n",
       "    </tr>\n",
       "    <tr>\n",
       "      <th>239997</th>\n",
       "      <td>-2.419601</td>\n",
       "      <td>-2.020367</td>\n",
       "      <td>-1.979734</td>\n",
       "      <td>-0.503633</td>\n",
       "    </tr>\n",
       "    <tr>\n",
       "      <th>239998</th>\n",
       "      <td>-2.421335</td>\n",
       "      <td>-2.014968</td>\n",
       "      <td>-1.978736</td>\n",
       "      <td>-0.502392</td>\n",
       "    </tr>\n",
       "    <tr>\n",
       "      <th>239999</th>\n",
       "      <td>-2.423049</td>\n",
       "      <td>-2.009567</td>\n",
       "      <td>-1.977739</td>\n",
       "      <td>-0.501152</td>\n",
       "    </tr>\n",
       "    <tr>\n",
       "      <th>240000</th>\n",
       "      <td>-2.424740</td>\n",
       "      <td>-2.004166</td>\n",
       "      <td>-1.976743</td>\n",
       "      <td>-0.499915</td>\n",
       "    </tr>\n",
       "  </tbody>\n",
       "</table>\n",
       "<p>240001 rows × 4 columns</p>\n",
       "</div>"
      ],
      "text/plain": [
       "               0         1         2         3\n",
       "0       0.050000  0.000000  0.000000  0.000000\n",
       "1       0.050410 -0.000309 -0.000102 -0.000361\n",
       "2       0.050819 -0.000618 -0.000203 -0.000721\n",
       "3       0.051229 -0.000927 -0.000305 -0.001082\n",
       "4       0.051643 -0.001240 -0.000407 -0.001443\n",
       "...          ...       ...       ...       ...\n",
       "239996 -2.417839 -2.025766 -1.980735 -0.504879\n",
       "239997 -2.419601 -2.020367 -1.979734 -0.503633\n",
       "239998 -2.421335 -2.014968 -1.978736 -0.502392\n",
       "239999 -2.423049 -2.009567 -1.977739 -0.501152\n",
       "240000 -2.424740 -2.004166 -1.976743 -0.499915\n",
       "\n",
       "[240001 rows x 4 columns]"
      ]
     },
     "execution_count": 7,
     "metadata": {},
     "output_type": "execute_result"
    }
   ],
   "source": [
    "i417_data['sol_u']"
   ]
  },
  {
   "cell_type": "code",
   "execution_count": 8,
   "id": "16e5aa6b-b4f3-4c57-b28a-608c0f7d8b28",
   "metadata": {},
   "outputs": [
    {
     "data": {
      "text/html": [
       "<div>\n",
       "<style scoped>\n",
       "    .dataframe tbody tr th:only-of-type {\n",
       "        vertical-align: middle;\n",
       "    }\n",
       "\n",
       "    .dataframe tbody tr th {\n",
       "        vertical-align: top;\n",
       "    }\n",
       "\n",
       "    .dataframe thead th {\n",
       "        text-align: right;\n",
       "    }\n",
       "</style>\n",
       "<table border=\"1\" class=\"dataframe\">\n",
       "  <thead>\n",
       "    <tr style=\"text-align: right;\">\n",
       "      <th></th>\n",
       "      <th>0</th>\n",
       "    </tr>\n",
       "  </thead>\n",
       "  <tbody>\n",
       "    <tr>\n",
       "      <th>0</th>\n",
       "      <td>0.000000</td>\n",
       "    </tr>\n",
       "    <tr>\n",
       "      <th>1</th>\n",
       "      <td>0.033333</td>\n",
       "    </tr>\n",
       "    <tr>\n",
       "      <th>2</th>\n",
       "      <td>0.066667</td>\n",
       "    </tr>\n",
       "    <tr>\n",
       "      <th>3</th>\n",
       "      <td>0.100000</td>\n",
       "    </tr>\n",
       "    <tr>\n",
       "      <th>4</th>\n",
       "      <td>0.133333</td>\n",
       "    </tr>\n",
       "    <tr>\n",
       "      <th>...</th>\n",
       "      <td>...</td>\n",
       "    </tr>\n",
       "    <tr>\n",
       "      <th>239996</th>\n",
       "      <td>7999.866667</td>\n",
       "    </tr>\n",
       "    <tr>\n",
       "      <th>239997</th>\n",
       "      <td>7999.900000</td>\n",
       "    </tr>\n",
       "    <tr>\n",
       "      <th>239998</th>\n",
       "      <td>7999.933333</td>\n",
       "    </tr>\n",
       "    <tr>\n",
       "      <th>239999</th>\n",
       "      <td>7999.966667</td>\n",
       "    </tr>\n",
       "    <tr>\n",
       "      <th>240000</th>\n",
       "      <td>8000.000000</td>\n",
       "    </tr>\n",
       "  </tbody>\n",
       "</table>\n",
       "<p>240001 rows × 1 columns</p>\n",
       "</div>"
      ],
      "text/plain": [
       "                  0\n",
       "0          0.000000\n",
       "1          0.033333\n",
       "2          0.066667\n",
       "3          0.100000\n",
       "4          0.133333\n",
       "...             ...\n",
       "239996  7999.866667\n",
       "239997  7999.900000\n",
       "239998  7999.933333\n",
       "239999  7999.966667\n",
       "240000  8000.000000\n",
       "\n",
       "[240001 rows x 1 columns]"
      ]
     },
     "execution_count": 8,
     "metadata": {},
     "output_type": "execute_result"
    }
   ],
   "source": [
    "i417_data['sol_t']"
   ]
  },
  {
   "cell_type": "code",
   "execution_count": 9,
   "id": "82b58e29-0d6d-4b6c-9195-cf6a75666c9e",
   "metadata": {},
   "outputs": [],
   "source": [
    "LOWER_LIMIT = int(75e3)\n",
    "UPPER_LIMIT = int(78e3)"
   ]
  },
  {
   "cell_type": "code",
   "execution_count": 10,
   "id": "b376b95a-b416-4f07-b0d0-20242265b3bc",
   "metadata": {},
   "outputs": [
    {
     "data": {
      "image/png": "[encoded data removed]",
      "text/plain": [
       "<Figure size 640x480 with 1 Axes>"
      ]
     },
     "metadata": {},
     "output_type": "display_data"
    }
   ],
   "source": [
    "plt.scatter(i417_data['sol_t'][LOWER_LIMIT:UPPER_LIMIT], \n",
    "            i417_data['sol_u'][1][LOWER_LIMIT:UPPER_LIMIT],\n",
    "            marker=\".\",\n",
    "            c='k')\n",
    "plt.xlabel('sol_t')\n",
    "plt.ylabel('')\n",
    "plt.show();"
   ]
  },
  {
   "cell_type": "code",
   "execution_count": null,
   "id": "5a29f927-813f-4674-b731-9ab54052a8b4",
   "metadata": {},
   "outputs": [],
   "source": []
  }
 ],
 "metadata": {
  "kernelspec": {
   "display_name": "Python 3 (ipykernel)",
   "language": "python",
   "name": "python3"
  },
  "language_info": {
   "codemirror_mode": {
    "name": "ipython",
    "version": 3
   },
   "file_extension": ".py",
   "mimetype": "text/x-python",
   "name": "python",
   "nbconvert_exporter": "python",
   "pygments_lexer": "ipython3",
   "version": "3.11.6"
  }
 },
 "nbformat": 4,
 "nbformat_minor": 5
}
